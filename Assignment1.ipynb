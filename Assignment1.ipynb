{
 "cells": [
  {
   "cell_type": "code",
   "execution_count": 1,
   "metadata": {},
   "outputs": [],
   "source": [
    "from __future__ import division\n",
    "import numpy as np\n",
    "import pandas as pd\n",
    "import statsmodels.api as sm \n",
    "import matplotlib.pyplot as plt\n",
    "from functools import reduce\n",
    "from math import sqrt, exp, log\n",
    "import math\n",
    "from scipy.stats import norm\n",
    "import datetime\n",
    "\n",
    "\n",
    "%matplotlib inline\n",
    "from collections import defaultdict"
   ]
  },
  {
   "cell_type": "markdown",
   "metadata": {},
   "source": [
    "## HW1 Part 1 = VaR"
   ]
  },
  {
   "cell_type": "markdown",
   "metadata": {},
   "source": [
    "For the assignment: Assume that we have 200 stocks in WeiBo (WB), 300 stocks in Netflix (NFLX), 250 stocks in Ford Motor Company (F) and 150 in Royal Dutch Shell (RDS-A) as of 31 August 2019 in the portfolio. \n",
    "\n",
    "Q1: (1 point)  Download the stock information for the past 1 year (1 Sept 2018 to 31 August 2019) and calculate the historical simulation VaR of the portfolio using python.  Find the VaR (1%) and indicate in 1 sentence, what this value means. "
   ]
  },
  {
   "cell_type": "code",
   "execution_count": 2,
   "metadata": {},
   "outputs": [],
   "source": [
    "# Import dataset \n",
    "WB = pd.read_csv('WB.csv')\n",
    "NFLX = pd.read_csv('NFLX.csv')\n",
    "F = pd.read_csv('F.csv')\n",
    "RDSA = pd.read_csv('RDSA.csv')\n",
    "\n",
    "# Make Date to date type\n",
    "WB['Date'] = WB['Date'].apply(str)\n",
    "WB['Date'] = pd.to_datetime(WB['Date'], infer_datetime_format=True)\n",
    "\n",
    "NFLX['Date'] = NFLX['Date'].apply(str)\n",
    "NFLX['Date'] = pd.to_datetime(NFLX['Date'], infer_datetime_format=True)\n",
    "\n",
    "F['Date'] = F['Date'].apply(str)\n",
    "F['Date'] = pd.to_datetime(F['Date'], infer_datetime_format=True)\n",
    "\n",
    "RDSA['Date'] = RDSA['Date'].apply(str)\n",
    "RDSA['Date'] = pd.to_datetime(RDSA['Date'], infer_datetime_format=True)"
   ]
  },
  {
   "cell_type": "code",
   "execution_count": 3,
   "metadata": {},
   "outputs": [
    {
     "data": {
      "text/html": [
       "<div>\n",
       "<style scoped>\n",
       "    .dataframe tbody tr th:only-of-type {\n",
       "        vertical-align: middle;\n",
       "    }\n",
       "\n",
       "    .dataframe tbody tr th {\n",
       "        vertical-align: top;\n",
       "    }\n",
       "\n",
       "    .dataframe thead th {\n",
       "        text-align: right;\n",
       "    }\n",
       "</style>\n",
       "<table border=\"1\" class=\"dataframe\">\n",
       "  <thead>\n",
       "    <tr style=\"text-align: right;\">\n",
       "      <th></th>\n",
       "      <th>Date</th>\n",
       "      <th>Open</th>\n",
       "      <th>High</th>\n",
       "      <th>Low</th>\n",
       "      <th>Close</th>\n",
       "      <th>Adj Close</th>\n",
       "      <th>Volume</th>\n",
       "    </tr>\n",
       "  </thead>\n",
       "  <tbody>\n",
       "    <tr>\n",
       "      <th>0</th>\n",
       "      <td>2018-08-31</td>\n",
       "      <td>75.750000</td>\n",
       "      <td>77.760002</td>\n",
       "      <td>75.750000</td>\n",
       "      <td>76.739998</td>\n",
       "      <td>76.739998</td>\n",
       "      <td>1981000</td>\n",
       "    </tr>\n",
       "    <tr>\n",
       "      <th>1</th>\n",
       "      <td>2018-09-04</td>\n",
       "      <td>76.519997</td>\n",
       "      <td>76.730003</td>\n",
       "      <td>74.800003</td>\n",
       "      <td>76.010002</td>\n",
       "      <td>76.010002</td>\n",
       "      <td>1337700</td>\n",
       "    </tr>\n",
       "    <tr>\n",
       "      <th>2</th>\n",
       "      <td>2018-09-05</td>\n",
       "      <td>74.250000</td>\n",
       "      <td>74.720001</td>\n",
       "      <td>71.290001</td>\n",
       "      <td>72.300003</td>\n",
       "      <td>72.300003</td>\n",
       "      <td>2598900</td>\n",
       "    </tr>\n",
       "    <tr>\n",
       "      <th>3</th>\n",
       "      <td>2018-09-06</td>\n",
       "      <td>72.330002</td>\n",
       "      <td>74.000000</td>\n",
       "      <td>71.260002</td>\n",
       "      <td>72.260002</td>\n",
       "      <td>72.260002</td>\n",
       "      <td>1674300</td>\n",
       "    </tr>\n",
       "    <tr>\n",
       "      <th>4</th>\n",
       "      <td>2018-09-07</td>\n",
       "      <td>72.000000</td>\n",
       "      <td>75.360001</td>\n",
       "      <td>71.550003</td>\n",
       "      <td>72.989998</td>\n",
       "      <td>72.989998</td>\n",
       "      <td>2236300</td>\n",
       "    </tr>\n",
       "  </tbody>\n",
       "</table>\n",
       "</div>"
      ],
      "text/plain": [
       "        Date       Open       High        Low      Close  Adj Close   Volume\n",
       "0 2018-08-31  75.750000  77.760002  75.750000  76.739998  76.739998  1981000\n",
       "1 2018-09-04  76.519997  76.730003  74.800003  76.010002  76.010002  1337700\n",
       "2 2018-09-05  74.250000  74.720001  71.290001  72.300003  72.300003  2598900\n",
       "3 2018-09-06  72.330002  74.000000  71.260002  72.260002  72.260002  1674300\n",
       "4 2018-09-07  72.000000  75.360001  71.550003  72.989998  72.989998  2236300"
      ]
     },
     "execution_count": 3,
     "metadata": {},
     "output_type": "execute_result"
    }
   ],
   "source": [
    "WB.head()"
   ]
  },
  {
   "cell_type": "code",
   "execution_count": 4,
   "metadata": {},
   "outputs": [],
   "source": [
    "# Calculate log-returns for the stocks\n",
    "WB['lag_price'] = WB['Adj Close'].shift(1)\n",
    "WB['log_return'] = np.log(WB['Adj Close']/WB['lag_price'])\n",
    "\n",
    "NFLX['lag_price'] = NFLX['Adj Close'].shift(1)\n",
    "NFLX['log_return'] = np.log(NFLX['Adj Close']/NFLX['lag_price'])\n",
    "\n",
    "F['lag_price'] = F['Adj Close'].shift(1)\n",
    "F['log_return'] = np.log(F['Adj Close']/F['lag_price'])\n",
    "\n",
    "RDSA['lag_price'] = RDSA['Adj Close'].shift(1)\n",
    "RDSA['log_return'] = np.log(RDSA['Adj Close']/RDSA['lag_price'])"
   ]
  },
  {
   "cell_type": "code",
   "execution_count": 5,
   "metadata": {},
   "outputs": [
    {
     "name": "stdout",
     "output_type": "stream",
     "text": [
      "137029.86725\n"
     ]
    }
   ],
   "source": [
    "#Total portfolio value\n",
    "#take price at the first day, not last day\n",
    "\n",
    "V_pf = float(WB.iloc[0:1, 5]*200 + NFLX.iloc[0:1, 5]*300 + F.iloc[0:1 ,5]*250 + RDSA.iloc[0:1, 5]*150)\n",
    "print(V_pf)\n",
    "#total portfolio value $137029.86725"
   ]
  },
  {
   "cell_type": "code",
   "execution_count": 6,
   "metadata": {},
   "outputs": [
    {
     "name": "stdout",
     "output_type": "stream",
     "text": [
      "{'WB': 0.1120047760974533, 'NFLX': 0.8049631814848014, 'F': 0.015912182458893833, 'RDSA': 0.0671198599588514}\n"
     ]
    }
   ],
   "source": [
    "#weightage per stock\n",
    "#stocks_qty = {'WB': 200, 'NFLX': 300, 'F':250, 'RDSA':150}\n",
    "s_weight = dict()\n",
    "s_weight['WB'] = float(WB.iloc[0:1, 5]*200/V_pf)\n",
    "s_weight['NFLX'] = float(NFLX.iloc[0:1, 5]*300/V_pf)\n",
    "s_weight['F'] = float(F.iloc[0:1, 5]*250/V_pf)\n",
    "s_weight['RDSA'] = float(RDSA.iloc[0:1, 5]*150/V_pf)\n",
    "\n",
    "print(s_weight)\n",
    "#print(sum(s_weight.values()))\n",
    "    "
   ]
  },
  {
   "cell_type": "code",
   "execution_count": 7,
   "metadata": {},
   "outputs": [],
   "source": [
    "# Rename:\n",
    "WB.rename(columns={'log_return':'WB_log_return'}, inplace=True)\n",
    "NFLX.rename(columns={'log_return':'NFLX_log_return'}, inplace=True)\n",
    "F.rename(columns={'log_return':'F_log_return'}, inplace=True)\n",
    "RDSA.rename(columns={'log_return':'RDSA_log_return'}, inplace=True)"
   ]
  },
  {
   "cell_type": "code",
   "execution_count": 8,
   "metadata": {},
   "outputs": [
    {
     "data": {
      "text/html": [
       "<div>\n",
       "<style scoped>\n",
       "    .dataframe tbody tr th:only-of-type {\n",
       "        vertical-align: middle;\n",
       "    }\n",
       "\n",
       "    .dataframe tbody tr th {\n",
       "        vertical-align: top;\n",
       "    }\n",
       "\n",
       "    .dataframe thead th {\n",
       "        text-align: right;\n",
       "    }\n",
       "</style>\n",
       "<table border=\"1\" class=\"dataframe\">\n",
       "  <thead>\n",
       "    <tr style=\"text-align: right;\">\n",
       "      <th></th>\n",
       "      <th>Date</th>\n",
       "      <th>WB_log_return</th>\n",
       "      <th>NFLX_log_return</th>\n",
       "      <th>F_log_return</th>\n",
       "      <th>RDSA_log_return</th>\n",
       "    </tr>\n",
       "  </thead>\n",
       "  <tbody>\n",
       "    <tr>\n",
       "      <th>1</th>\n",
       "      <td>2018-09-04</td>\n",
       "      <td>-0.009558</td>\n",
       "      <td>-0.011159</td>\n",
       "      <td>-0.001055</td>\n",
       "      <td>0.000460</td>\n",
       "    </tr>\n",
       "    <tr>\n",
       "      <th>2</th>\n",
       "      <td>2018-09-05</td>\n",
       "      <td>-0.050041</td>\n",
       "      <td>-0.063644</td>\n",
       "      <td>0.002110</td>\n",
       "      <td>-0.004146</td>\n",
       "    </tr>\n",
       "    <tr>\n",
       "      <th>3</th>\n",
       "      <td>2018-09-06</td>\n",
       "      <td>-0.000553</td>\n",
       "      <td>0.015357</td>\n",
       "      <td>-0.006342</td>\n",
       "      <td>-0.020363</td>\n",
       "    </tr>\n",
       "    <tr>\n",
       "      <th>4</th>\n",
       "      <td>2018-09-07</td>\n",
       "      <td>0.010052</td>\n",
       "      <td>0.006387</td>\n",
       "      <td>-0.017113</td>\n",
       "      <td>-0.005038</td>\n",
       "    </tr>\n",
       "    <tr>\n",
       "      <th>5</th>\n",
       "      <td>2018-09-10</td>\n",
       "      <td>-0.032443</td>\n",
       "      <td>-0.000775</td>\n",
       "      <td>0.011796</td>\n",
       "      <td>-0.006333</td>\n",
       "    </tr>\n",
       "    <tr>\n",
       "      <th>6</th>\n",
       "      <td>2018-09-11</td>\n",
       "      <td>-0.027839</td>\n",
       "      <td>0.021354</td>\n",
       "      <td>-0.007491</td>\n",
       "      <td>0.015133</td>\n",
       "    </tr>\n",
       "    <tr>\n",
       "      <th>7</th>\n",
       "      <td>2018-09-12</td>\n",
       "      <td>0.008693</td>\n",
       "      <td>0.038634</td>\n",
       "      <td>0.003217</td>\n",
       "      <td>0.007016</td>\n",
       "    </tr>\n",
       "    <tr>\n",
       "      <th>8</th>\n",
       "      <td>2018-09-13</td>\n",
       "      <td>0.056509</td>\n",
       "      <td>-0.004877</td>\n",
       "      <td>0.003207</td>\n",
       "      <td>0.005423</td>\n",
       "    </tr>\n",
       "    <tr>\n",
       "      <th>9</th>\n",
       "      <td>2018-09-14</td>\n",
       "      <td>-0.006703</td>\n",
       "      <td>-0.009799</td>\n",
       "      <td>0.008502</td>\n",
       "      <td>-0.003715</td>\n",
       "    </tr>\n",
       "    <tr>\n",
       "      <th>10</th>\n",
       "      <td>2018-09-17</td>\n",
       "      <td>-0.006195</td>\n",
       "      <td>-0.039758</td>\n",
       "      <td>0.010527</td>\n",
       "      <td>0.004642</td>\n",
       "    </tr>\n",
       "  </tbody>\n",
       "</table>\n",
       "</div>"
      ],
      "text/plain": [
       "         Date  WB_log_return  NFLX_log_return  F_log_return  RDSA_log_return\n",
       "1  2018-09-04      -0.009558        -0.011159     -0.001055         0.000460\n",
       "2  2018-09-05      -0.050041        -0.063644      0.002110        -0.004146\n",
       "3  2018-09-06      -0.000553         0.015357     -0.006342        -0.020363\n",
       "4  2018-09-07       0.010052         0.006387     -0.017113        -0.005038\n",
       "5  2018-09-10      -0.032443        -0.000775      0.011796        -0.006333\n",
       "6  2018-09-11      -0.027839         0.021354     -0.007491         0.015133\n",
       "7  2018-09-12       0.008693         0.038634      0.003217         0.007016\n",
       "8  2018-09-13       0.056509        -0.004877      0.003207         0.005423\n",
       "9  2018-09-14      -0.006703        -0.009799      0.008502        -0.003715\n",
       "10 2018-09-17      -0.006195        -0.039758      0.010527         0.004642"
      ]
     },
     "execution_count": 8,
     "metadata": {},
     "output_type": "execute_result"
    }
   ],
   "source": [
    "# Create a new dataset with log-returns of 4 stocks\n",
    "dfs = [WB, NFLX, F, RDSA]\n",
    "Stock_return = reduce(lambda left,right: pd.merge(left,right,on='Date'), dfs)\n",
    "Stock_return = Stock_return[['Date','WB_log_return','NFLX_log_return','F_log_return','RDSA_log_return']]\n",
    "Stock_return.dropna(inplace=True)\n",
    "Stock_return.head(n=10)"
   ]
  },
  {
   "cell_type": "code",
   "execution_count": 9,
   "metadata": {},
   "outputs": [
    {
     "data": {
      "text/html": [
       "<div>\n",
       "<style scoped>\n",
       "    .dataframe tbody tr th:only-of-type {\n",
       "        vertical-align: middle;\n",
       "    }\n",
       "\n",
       "    .dataframe tbody tr th {\n",
       "        vertical-align: top;\n",
       "    }\n",
       "\n",
       "    .dataframe thead th {\n",
       "        text-align: right;\n",
       "    }\n",
       "</style>\n",
       "<table border=\"1\" class=\"dataframe\">\n",
       "  <thead>\n",
       "    <tr style=\"text-align: right;\">\n",
       "      <th></th>\n",
       "      <th>Date</th>\n",
       "      <th>WB_log_return</th>\n",
       "      <th>NFLX_log_return</th>\n",
       "      <th>F_log_return</th>\n",
       "      <th>RDSA_log_return</th>\n",
       "      <th>Portfolio_log_return</th>\n",
       "    </tr>\n",
       "  </thead>\n",
       "  <tbody>\n",
       "    <tr>\n",
       "      <th>1</th>\n",
       "      <td>2018-09-04</td>\n",
       "      <td>-0.009558</td>\n",
       "      <td>-0.011159</td>\n",
       "      <td>-0.001055</td>\n",
       "      <td>0.000460</td>\n",
       "      <td>-0.010039</td>\n",
       "    </tr>\n",
       "    <tr>\n",
       "      <th>2</th>\n",
       "      <td>2018-09-05</td>\n",
       "      <td>-0.050041</td>\n",
       "      <td>-0.063644</td>\n",
       "      <td>0.002110</td>\n",
       "      <td>-0.004146</td>\n",
       "      <td>-0.057081</td>\n",
       "    </tr>\n",
       "    <tr>\n",
       "      <th>3</th>\n",
       "      <td>2018-09-06</td>\n",
       "      <td>-0.000553</td>\n",
       "      <td>0.015357</td>\n",
       "      <td>-0.006342</td>\n",
       "      <td>-0.020363</td>\n",
       "      <td>0.010832</td>\n",
       "    </tr>\n",
       "    <tr>\n",
       "      <th>4</th>\n",
       "      <td>2018-09-07</td>\n",
       "      <td>0.010052</td>\n",
       "      <td>0.006387</td>\n",
       "      <td>-0.017113</td>\n",
       "      <td>-0.005038</td>\n",
       "      <td>0.005657</td>\n",
       "    </tr>\n",
       "    <tr>\n",
       "      <th>5</th>\n",
       "      <td>2018-09-10</td>\n",
       "      <td>-0.032443</td>\n",
       "      <td>-0.000775</td>\n",
       "      <td>0.011796</td>\n",
       "      <td>-0.006333</td>\n",
       "      <td>-0.004495</td>\n",
       "    </tr>\n",
       "  </tbody>\n",
       "</table>\n",
       "</div>"
      ],
      "text/plain": [
       "        Date  WB_log_return  NFLX_log_return  F_log_return  RDSA_log_return  \\\n",
       "1 2018-09-04      -0.009558        -0.011159     -0.001055         0.000460   \n",
       "2 2018-09-05      -0.050041        -0.063644      0.002110        -0.004146   \n",
       "3 2018-09-06      -0.000553         0.015357     -0.006342        -0.020363   \n",
       "4 2018-09-07       0.010052         0.006387     -0.017113        -0.005038   \n",
       "5 2018-09-10      -0.032443        -0.000775      0.011796        -0.006333   \n",
       "\n",
       "   Portfolio_log_return  \n",
       "1             -0.010039  \n",
       "2             -0.057081  \n",
       "3              0.010832  \n",
       "4              0.005657  \n",
       "5             -0.004495  "
      ]
     },
     "execution_count": 9,
     "metadata": {},
     "output_type": "execute_result"
    }
   ],
   "source": [
    "#get portfolio weighted log return\n",
    "Stock_return['Portfolio_log_return'] = s_weight['WB'] * Stock_return['WB_log_return'] \\\n",
    "                                       + s_weight['NFLX']* Stock_return['NFLX_log_return'] \\\n",
    "                                       + s_weight['F']* Stock_return['F_log_return'] \\\n",
    "                                       + s_weight['RDSA'] * Stock_return['RDSA_log_return'] \n",
    "Stock_return.head()"
   ]
  },
  {
   "cell_type": "code",
   "execution_count": 10,
   "metadata": {},
   "outputs": [
    {
     "name": "stdout",
     "output_type": "stream",
     "text": [
      "0.01   -0.069184\n",
      "Name: Portfolio_log_return, dtype: float64\n",
      "0.01   -9480.227864\n",
      "Name: Portfolio_log_return, dtype: float64\n"
     ]
    }
   ],
   "source": [
    "VaR_portfolio = Stock_return['Portfolio_log_return'].quantile([0.01])\n",
    "#6.91%\n",
    "VaR_portfolio_value = Stock_return['Portfolio_log_return'].quantile([0.01])*V_pf\n",
    "print(VaR_portfolio)\n",
    "print(VaR_portfolio_value)"
   ]
  },
  {
   "cell_type": "raw",
   "metadata": {},
   "source": [
    "Q1) Var 1% = 6.918%\n",
    "This value means that there is less than 1% chance that losses will be more than $9480.23 and more than 99% chance that losses will be less than $9480.23"
   ]
  },
  {
   "cell_type": "raw",
   "metadata": {},
   "source": [
    "Q2a: Identify the parameters of Var (miu and sd), covariance of the stocks and use the parameters to calculate VaR (1%). Indicate in 1 sentence, what this value means.  "
   ]
  },
  {
   "cell_type": "code",
   "execution_count": 11,
   "metadata": {},
   "outputs": [
    {
     "data": {
      "text/plain": [
       "WB_log_return     -0.002471\n",
       "NFLX_log_return   -0.000898\n",
       "F_log_return       0.000200\n",
       "RDSA_log_return   -0.000391\n",
       "dtype: float64"
      ]
     },
     "execution_count": 11,
     "metadata": {},
     "output_type": "execute_result"
    }
   ],
   "source": [
    "# Calculate the log returns (average)\n",
    "mean_stock_return = Stock_return[['WB_log_return','NFLX_log_return','F_log_return','RDSA_log_return']].mean()\n",
    "mean_stock_return\n"
   ]
  },
  {
   "cell_type": "code",
   "execution_count": 12,
   "metadata": {},
   "outputs": [
    {
     "data": {
      "text/plain": [
       "WB_log_return      0.035686\n",
       "NFLX_log_return    0.027472\n",
       "F_log_return       0.019281\n",
       "RDSA_log_return    0.012487\n",
       "dtype: float64"
      ]
     },
     "execution_count": 12,
     "metadata": {},
     "output_type": "execute_result"
    }
   ],
   "source": [
    "# Calculate the log returns (std dev)\n",
    "std_stock_return = Stock_return[['WB_log_return','NFLX_log_return','F_log_return','RDSA_log_return']].std()\n",
    "std_stock_return"
   ]
  },
  {
   "cell_type": "code",
   "execution_count": 13,
   "metadata": {},
   "outputs": [
    {
     "data": {
      "text/plain": [
       "array([[1.27349834e-03, 4.31303733e-04, 1.95583803e-04, 1.99933706e-04],\n",
       "       [4.31303733e-04, 7.54712884e-04, 1.33570328e-04, 1.26235653e-04],\n",
       "       [1.95583803e-04, 1.33570328e-04, 3.71744310e-04, 7.24423009e-05],\n",
       "       [1.99933706e-04, 1.26235653e-04, 7.24423009e-05, 1.55931365e-04]])"
      ]
     },
     "execution_count": 13,
     "metadata": {},
     "output_type": "execute_result"
    }
   ],
   "source": [
    "# Calculate variance-covariance matrix of 4 stocks\n",
    "mat_df = Stock_return[['WB_log_return','NFLX_log_return','F_log_return','RDSA_log_return']].values\n",
    "vcv = np.cov(mat_df.T)\n",
    "vcv"
   ]
  },
  {
   "cell_type": "code",
   "execution_count": 14,
   "metadata": {},
   "outputs": [],
   "source": [
    "weights = np.array(list(s_weight.values()))"
   ]
  },
  {
   "cell_type": "code",
   "execution_count": 15,
   "metadata": {},
   "outputs": [
    {
     "data": {
      "text/plain": [
       "0.0006044937635843892"
      ]
     },
     "execution_count": 15,
     "metadata": {},
     "output_type": "execute_result"
    }
   ],
   "source": [
    "# Calculate variance of this portfolio\n",
    "variance = np.dot(weights, np.dot(vcv, weights))\n",
    "variance"
   ]
  },
  {
   "cell_type": "code",
   "execution_count": 16,
   "metadata": {},
   "outputs": [
    {
     "name": "stdout",
     "output_type": "stream",
     "text": [
      "[-0.08548977 -0.06480745 -0.04465309 -0.02944112]\n"
     ]
    }
   ],
   "source": [
    "# Calculate VaR at 99% of seperate stocks\n",
    "alpha = 0.01 # Significance level (= 1 - Confidence level )\n",
    "VaR_WB = Stock_return['WB_log_return'].mean() + Stock_return['WB_log_return'].std() * norm.ppf(alpha, loc=0, scale=1)\n",
    "VaR_NFLX = Stock_return['NFLX_log_return'].mean() + Stock_return['NFLX_log_return'].std() * norm.ppf(alpha, loc=0, scale=1)\n",
    "VaR_F = Stock_return['F_log_return'].mean() + Stock_return['F_log_return'].std() * norm.ppf(alpha, loc=0, scale=1)\n",
    "VaR_RDSA = Stock_return['RDSA_log_return'].mean() + Stock_return['RDSA_log_return'].std() * norm.ppf(alpha, loc=0, scale=1)\n",
    "VaR_stocks = np.array([VaR_WB, VaR_NFLX, VaR_F, VaR_RDSA])\n",
    "#note these VaR are log returns\n",
    "print(VaR_stocks)"
   ]
  },
  {
   "cell_type": "code",
   "execution_count": 17,
   "metadata": {},
   "outputs": [
    {
     "name": "stdout",
     "output_type": "stream",
     "text": [
      "The actual portfolio mean in log returns would be : -0.0010225561603834181\n",
      "The VaR loss at 0.01 significance in log returns would be : 0.05821920320152941\n",
      "The VaR loss at 0.01 significance in arithmetic returns would be : 0.056556880983248625\n"
     ]
    }
   ],
   "source": [
    "alpha = 0.01\n",
    "volatility = sqrt(variance)\n",
    "\n",
    "#convert log to arithmetic for all 4 mean values\n",
    "returns =  np.exp(mean_stock_return.values) -1  #get arithmetic mean\n",
    "\n",
    "#get weighted mean in arithmetic form, 1 value\n",
    "#arithmetic mean\n",
    "mean_return = np.dot(weights,returns) \n",
    "\n",
    "#convert arithmetic back to log\n",
    "#log mean\n",
    "mean_log_return = np.log(1 + mean_return) #convert back to log form\n",
    "weighted_mean = mean_log_return\n",
    "\n",
    "print(f\"The actual portfolio mean in log returns would be : {weighted_mean}\")\n",
    "\n",
    "z_alpha = norm.ppf(alpha, loc=0, scale=1)\n",
    "VaR_portfolio_log = weighted_mean + volatility*z_alpha\n",
    "VaR_portfolio_arith = exp(VaR_portfolio_log)-1\n",
    "\n",
    "print(f\"The VaR loss at {alpha} significance in log returns would be : {-VaR_portfolio_log}\")  \n",
    "print(f\"The VaR loss at {alpha} significance in arithmetic returns would be : {-VaR_portfolio_arith}\")"
   ]
  },
  {
   "cell_type": "code",
   "execution_count": 18,
   "metadata": {},
   "outputs": [
    {
     "name": "stdout",
     "output_type": "stream",
     "text": [
      "The weighted average log returns of the four individual VaRs are:  0.0644294888251832\n",
      "VaR loss in % log return after diversification (remember this represents a loss!):  0.05821920320152941\n",
      "VaR loss in $ log return after diversification (remember this represents a loss!):  7977.7696861063505\n",
      "VaR loss in $ arith return after diversification (remember this represents a loss!):  7749.981893208609\n"
     ]
    }
   ],
   "source": [
    "VaR_before_merge = np.dot(weights, VaR_stocks) # VaR risk of seperate stocks before diversification\n",
    "VaR_after_merge = VaR_portfolio_log # VaR risk log, after portfolio diversification\n",
    "VaR_after_merge_dollar_log = VaR_portfolio_log*V_pf\n",
    "VaR_after_merge_dollar_arith = VaR_portfolio_arith*V_pf\n",
    "print(\"The weighted average log returns of the four individual VaRs are: \", -VaR_before_merge)\n",
    "print(\"VaR loss in % log return after diversification (remember this represents a loss!): \", -VaR_after_merge)\n",
    "print(\"VaR loss in $ log return after diversification (remember this represents a loss!): \", -VaR_after_merge_dollar_log)\n",
    "print(\"VaR loss in $ arith return after diversification (remember this represents a loss!): \", -VaR_after_merge_dollar_arith)"
   ]
  },
  {
   "cell_type": "raw",
   "metadata": {},
   "source": [
    "Q2a)\n",
    "WB: mean = -0.247%, sd = 3.56%\n",
    "NFLX: mean = -0.089%, sd = 2.74%\n",
    "F: mean = 0.02%, sd = 1.92%\n",
    "RDSA: mean = 0.03%, sd = 1.2%\n",
    "\n",
    "Covariance of stocks see 'vcv'\n",
    "\n",
    "VaR(1%) of portfolio = 5.822% log return loss for 99% confidence.\n",
    "This value means that there is less than 1% chance that losses will be more than $7977.77(=VaR*Portfolio value) and more than 99% chance that losses will be less than $7977.77\n",
    "\n",
    "\n",
    "Q2b) VaR(1%)\n",
    "Our VaR before diversification is 6.443%, which is higher than 5.822% after portfolio diversification (both in log returns). Diversification reduces our portfolio risk."
   ]
  },
  {
   "cell_type": "raw",
   "metadata": {},
   "source": [
    "Q 3a: (3 points)  Using the parameters identified in Q2 and the Monte Carlo simulation method, what is the VaR today if the confidence level is 99%? We assume that the stocks follow a normal distribution and use the Brownian motion approach reviewed in the tutorial. Generate 1000 returns. "
   ]
  },
  {
   "cell_type": "code",
   "execution_count": 19,
   "metadata": {},
   "outputs": [
    {
     "name": "stdout",
     "output_type": "stream",
     "text": [
      "-0.0013248030421756127 0.024586454880368362\n"
     ]
    }
   ],
   "source": [
    "# Generate 1000 log-returns based on the formula above\n",
    "mu = weighted_mean\n",
    "sterr = volatility\n",
    "T=1\n",
    "new_mu = (mu-(sterr**2)/2)*T\n",
    "new_sterr = sterr*sqrt(T)\n",
    "\n",
    "print(new_mu, new_sterr)"
   ]
  },
  {
   "cell_type": "code",
   "execution_count": 20,
   "metadata": {},
   "outputs": [],
   "source": [
    "np.random.seed(12323) \n",
    "alpha = 0.01 # Significance level\n",
    "N_simulations = 1000 # Number of Monte Carlo simulations\n",
    "log_returns = np.random.normal(loc=new_mu, scale=new_sterr, size=N_simulations)"
   ]
  },
  {
   "cell_type": "code",
   "execution_count": 21,
   "metadata": {},
   "outputs": [],
   "source": [
    "# Sort log_returns from low->high and find the cutoff value\n",
    "log_returns = sorted(log_returns, reverse=False)"
   ]
  },
  {
   "cell_type": "code",
   "execution_count": 22,
   "metadata": {},
   "outputs": [
    {
     "data": {
      "text/plain": [
       "-0.05926649782806147"
      ]
     },
     "execution_count": 22,
     "metadata": {},
     "output_type": "execute_result"
    }
   ],
   "source": [
    "log_returns[int(N_simulations*alpha)]"
   ]
  },
  {
   "cell_type": "code",
   "execution_count": 23,
   "metadata": {},
   "outputs": [
    {
     "name": "stdout",
     "output_type": "stream",
     "text": [
      "7885.305148433593\n",
      "0.05754442667632076\n"
     ]
    }
   ],
   "source": [
    "# calculate $VaR today\n",
    "VaR_today = V_pf*(1-exp(log_returns[int(alpha*N_simulations)])) \n",
    "print(VaR_today)\n",
    "print(1-exp(log_returns[int(alpha*N_simulations)]))"
   ]
  },
  {
   "cell_type": "raw",
   "metadata": {},
   "source": [
    "Q3a)VaR using Monte Carlo confidence level 99%\n",
    "= $7885.31\n",
    "\n",
    "Q3b) VaR in $ (log returns)\n",
    "Historical: $9480.23\n",
    "Parametric: $7977.77\n",
    "Monte Carlo: $7885.31\n"
   ]
  },
  {
   "cell_type": "raw",
   "metadata": {},
   "source": [
    "Q 4: (2 points) Plot a histogram of the returns of the portfolio and describe how it would affect your interpretation of the VaR values derived in this assignment. \n",
    "** hint: look at the distribution of the plot\n"
   ]
  },
  {
   "cell_type": "code",
   "execution_count": 24,
   "metadata": {},
   "outputs": [
    {
     "data": {
      "image/png": "[encoded data removed]",
      "text/plain": [
       "<Figure size 432x288 with 1 Axes>"
      ]
     },
     "metadata": {
      "needs_background": "light"
     },
     "output_type": "display_data"
    }
   ],
   "source": [
    "x = Stock_return[['Portfolio_log_return']].values\n",
    "#print(x)\n",
    "\n",
    "plt.hist(x, 20, facecolor='blue', alpha=0.5)\n",
    "plt.show()\n"
   ]
  },
  {
   "cell_type": "raw",
   "metadata": {},
   "source": [
    "Q4)Plotting the histogram, it looks very similar to a normal distribution. "
   ]
  },
  {
   "cell_type": "raw",
   "metadata": {},
   "source": [
    "Q 5: (2 points) When we estimate a VaR, we could use different time periods, such as over the past year or past 6 months. Does this make a difference? Calculate VaR (1%) using historical simulation with data from the past 6 months (March 1st 2019 to August 31 2019). Compare the VaR (1%) here versus Q1 and provide 1 reason for a difference (if any). \n"
   ]
  },
  {
   "cell_type": "code",
   "execution_count": 25,
   "metadata": {},
   "outputs": [
    {
     "name": "stdout",
     "output_type": "stream",
     "text": [
      "72.07\n",
      "132762.8423\n"
     ]
    }
   ],
   "source": [
    "#calculate new portfolio value\n",
    "#stocks_qty = {'WB': 200, 'NFLX': 300, 'F':250, 'RDSA':150}\n",
    "print(float(WB[WB['Date']== '2019-03-01'].iloc[:, 5]))\n",
    "V_pf2 = float(WB[WB['Date']== '2019-03-01'].iloc[:, 5])*200 \\\n",
    "        + float(NFLX[NFLX['Date']== '2019-03-01'].iloc[:, 5])*300 \\\n",
    "        + float(F[F['Date']== '2019-03-01'].iloc[:, 5])*250 \\\n",
    "        + float(RDSA[RDSA['Date']== '2019-03-01'].iloc[:, 5])*150\n",
    "print(V_pf2)\n",
    "#new portfolio value starting 1st March $132763.8423"
   ]
  },
  {
   "cell_type": "code",
   "execution_count": 26,
   "metadata": {},
   "outputs": [
    {
     "name": "stdout",
     "output_type": "stream",
     "text": [
      "{'WB': 0.1120047760974533, 'NFLX': 0.8049631814848014, 'F': 0.015912182458893833, 'RDSA': 0.0671198599588514}\n",
      "0.9999999999999999\n"
     ]
    }
   ],
   "source": [
    "#calculate new weights based on price on 1st March 2019\n",
    "s_weight2 = dict()\n",
    "s_weight2['WB'] = float(WB[WB['Date']== '2019-03-01'].iloc[:, 5])*200/V_pf2\n",
    "s_weight2['NFLX'] = float(NFLX[NFLX['Date']== '2019-03-01'].iloc[:, 5])*300/V_pf2\n",
    "s_weight2['F'] = float(F[F['Date']== '2019-03-01'].iloc[:, 5])*250/V_pf2\n",
    "s_weight2['RDSA'] = float(RDSA[RDSA['Date']== '2019-03-01'].iloc[:, 5])*150/V_pf2\n",
    "\n",
    "print(s_weight)\n",
    "print(sum(s_weight.values()))"
   ]
  },
  {
   "cell_type": "code",
   "execution_count": 27,
   "metadata": {},
   "outputs": [
    {
     "data": {
      "text/html": [
       "<div>\n",
       "<style scoped>\n",
       "    .dataframe tbody tr th:only-of-type {\n",
       "        vertical-align: middle;\n",
       "    }\n",
       "\n",
       "    .dataframe tbody tr th {\n",
       "        vertical-align: top;\n",
       "    }\n",
       "\n",
       "    .dataframe thead th {\n",
       "        text-align: right;\n",
       "    }\n",
       "</style>\n",
       "<table border=\"1\" class=\"dataframe\">\n",
       "  <thead>\n",
       "    <tr style=\"text-align: right;\">\n",
       "      <th></th>\n",
       "      <th>Date</th>\n",
       "      <th>WB_log_return</th>\n",
       "      <th>NFLX_log_return</th>\n",
       "      <th>F_log_return</th>\n",
       "      <th>RDSA_log_return</th>\n",
       "    </tr>\n",
       "  </thead>\n",
       "  <tbody>\n",
       "    <tr>\n",
       "      <th>0</th>\n",
       "      <td>2019-03-01</td>\n",
       "      <td>-0.002494</td>\n",
       "      <td>-0.002181</td>\n",
       "      <td>0.002278</td>\n",
       "      <td>0.001767</td>\n",
       "    </tr>\n",
       "    <tr>\n",
       "      <th>1</th>\n",
       "      <td>2019-03-04</td>\n",
       "      <td>0.004154</td>\n",
       "      <td>-0.017732</td>\n",
       "      <td>0.002273</td>\n",
       "      <td>-0.000481</td>\n",
       "    </tr>\n",
       "    <tr>\n",
       "      <th>2</th>\n",
       "      <td>2019-03-05</td>\n",
       "      <td>-0.037305</td>\n",
       "      <td>0.009244</td>\n",
       "      <td>-0.004551</td>\n",
       "      <td>0.001444</td>\n",
       "    </tr>\n",
       "    <tr>\n",
       "      <th>3</th>\n",
       "      <td>2019-03-06</td>\n",
       "      <td>-0.035476</td>\n",
       "      <td>0.014876</td>\n",
       "      <td>-0.021903</td>\n",
       "      <td>0.000160</td>\n",
       "    </tr>\n",
       "    <tr>\n",
       "      <th>4</th>\n",
       "      <td>2019-03-07</td>\n",
       "      <td>-0.079944</td>\n",
       "      <td>-0.019686</td>\n",
       "      <td>-0.011723</td>\n",
       "      <td>-0.013230</td>\n",
       "    </tr>\n",
       "    <tr>\n",
       "      <th>5</th>\n",
       "      <td>2019-03-08</td>\n",
       "      <td>-0.009381</td>\n",
       "      <td>-0.008545</td>\n",
       "      <td>-0.007101</td>\n",
       "      <td>-0.012585</td>\n",
       "    </tr>\n",
       "    <tr>\n",
       "      <th>6</th>\n",
       "      <td>2019-03-11</td>\n",
       "      <td>0.043561</td>\n",
       "      <td>0.026143</td>\n",
       "      <td>0.022315</td>\n",
       "      <td>0.007048</td>\n",
       "    </tr>\n",
       "    <tr>\n",
       "      <th>7</th>\n",
       "      <td>2019-03-12</td>\n",
       "      <td>-0.016153</td>\n",
       "      <td>-0.007243</td>\n",
       "      <td>-0.004657</td>\n",
       "      <td>0.001795</td>\n",
       "    </tr>\n",
       "    <tr>\n",
       "      <th>8</th>\n",
       "      <td>2019-03-13</td>\n",
       "      <td>-0.012729</td>\n",
       "      <td>0.013771</td>\n",
       "      <td>-0.004678</td>\n",
       "      <td>0.026544</td>\n",
       "    </tr>\n",
       "    <tr>\n",
       "      <th>9</th>\n",
       "      <td>2019-03-14</td>\n",
       "      <td>-0.017282</td>\n",
       "      <td>-0.006639</td>\n",
       "      <td>-0.014168</td>\n",
       "      <td>0.000952</td>\n",
       "    </tr>\n",
       "  </tbody>\n",
       "</table>\n",
       "</div>"
      ],
      "text/plain": [
       "        Date  WB_log_return  NFLX_log_return  F_log_return  RDSA_log_return\n",
       "0 2019-03-01      -0.002494        -0.002181      0.002278         0.001767\n",
       "1 2019-03-04       0.004154        -0.017732      0.002273        -0.000481\n",
       "2 2019-03-05      -0.037305         0.009244     -0.004551         0.001444\n",
       "3 2019-03-06      -0.035476         0.014876     -0.021903         0.000160\n",
       "4 2019-03-07      -0.079944        -0.019686     -0.011723        -0.013230\n",
       "5 2019-03-08      -0.009381        -0.008545     -0.007101        -0.012585\n",
       "6 2019-03-11       0.043561         0.026143      0.022315         0.007048\n",
       "7 2019-03-12      -0.016153        -0.007243     -0.004657         0.001795\n",
       "8 2019-03-13      -0.012729         0.013771     -0.004678         0.026544\n",
       "9 2019-03-14      -0.017282        -0.006639     -0.014168         0.000952"
      ]
     },
     "execution_count": 27,
     "metadata": {},
     "output_type": "execute_result"
    }
   ],
   "source": [
    "# Create a new dataset with log-returns of 4 stocks\n",
    "dfs = [WB, NFLX, F, RDSA]\n",
    "Stock_return_6M = reduce(lambda left,right: pd.merge(left,right,on='Date'), dfs)\n",
    "Stock_return_6M = Stock_return[['Date','WB_log_return','NFLX_log_return','F_log_return','RDSA_log_return']]\n",
    "Stock_return_6M  = Stock_return_6M[Stock_return_6M['Date']>= '2019-03-01'].reset_index()\n",
    "Stock_return_6M.dropna(inplace=True)\n",
    "Stock_return_6M.drop(columns=['index'], inplace=True)\n",
    "Stock_return_6M.head(n=10)"
   ]
  },
  {
   "cell_type": "code",
   "execution_count": 28,
   "metadata": {},
   "outputs": [
    {
     "data": {
      "text/html": [
       "<div>\n",
       "<style scoped>\n",
       "    .dataframe tbody tr th:only-of-type {\n",
       "        vertical-align: middle;\n",
       "    }\n",
       "\n",
       "    .dataframe tbody tr th {\n",
       "        vertical-align: top;\n",
       "    }\n",
       "\n",
       "    .dataframe thead th {\n",
       "        text-align: right;\n",
       "    }\n",
       "</style>\n",
       "<table border=\"1\" class=\"dataframe\">\n",
       "  <thead>\n",
       "    <tr style=\"text-align: right;\">\n",
       "      <th></th>\n",
       "      <th>Date</th>\n",
       "      <th>WB_log_return</th>\n",
       "      <th>NFLX_log_return</th>\n",
       "      <th>F_log_return</th>\n",
       "      <th>RDSA_log_return</th>\n",
       "      <th>Portfolio_log_return</th>\n",
       "    </tr>\n",
       "  </thead>\n",
       "  <tbody>\n",
       "    <tr>\n",
       "      <th>0</th>\n",
       "      <td>2019-03-01</td>\n",
       "      <td>-0.002494</td>\n",
       "      <td>-0.002181</td>\n",
       "      <td>0.002278</td>\n",
       "      <td>0.001767</td>\n",
       "      <td>-0.001875</td>\n",
       "    </tr>\n",
       "    <tr>\n",
       "      <th>1</th>\n",
       "      <td>2019-03-04</td>\n",
       "      <td>0.004154</td>\n",
       "      <td>-0.017732</td>\n",
       "      <td>0.002273</td>\n",
       "      <td>-0.000481</td>\n",
       "      <td>-0.013863</td>\n",
       "    </tr>\n",
       "    <tr>\n",
       "      <th>2</th>\n",
       "      <td>2019-03-05</td>\n",
       "      <td>-0.037305</td>\n",
       "      <td>0.009244</td>\n",
       "      <td>-0.004551</td>\n",
       "      <td>0.001444</td>\n",
       "      <td>0.003440</td>\n",
       "    </tr>\n",
       "    <tr>\n",
       "      <th>3</th>\n",
       "      <td>2019-03-06</td>\n",
       "      <td>-0.035476</td>\n",
       "      <td>0.014876</td>\n",
       "      <td>-0.021903</td>\n",
       "      <td>0.000160</td>\n",
       "      <td>0.007825</td>\n",
       "    </tr>\n",
       "    <tr>\n",
       "      <th>4</th>\n",
       "      <td>2019-03-07</td>\n",
       "      <td>-0.079944</td>\n",
       "      <td>-0.019686</td>\n",
       "      <td>-0.011723</td>\n",
       "      <td>-0.013230</td>\n",
       "      <td>-0.025662</td>\n",
       "    </tr>\n",
       "  </tbody>\n",
       "</table>\n",
       "</div>"
      ],
      "text/plain": [
       "        Date  WB_log_return  NFLX_log_return  F_log_return  RDSA_log_return  \\\n",
       "0 2019-03-01      -0.002494        -0.002181      0.002278         0.001767   \n",
       "1 2019-03-04       0.004154        -0.017732      0.002273        -0.000481   \n",
       "2 2019-03-05      -0.037305         0.009244     -0.004551         0.001444   \n",
       "3 2019-03-06      -0.035476         0.014876     -0.021903         0.000160   \n",
       "4 2019-03-07      -0.079944        -0.019686     -0.011723        -0.013230   \n",
       "\n",
       "   Portfolio_log_return  \n",
       "0             -0.001875  \n",
       "1             -0.013863  \n",
       "2              0.003440  \n",
       "3              0.007825  \n",
       "4             -0.025662  "
      ]
     },
     "execution_count": 28,
     "metadata": {},
     "output_type": "execute_result"
    }
   ],
   "source": [
    "Stock_return_6M['Portfolio_log_return'] = s_weight2['WB'] * Stock_return_6M['WB_log_return'] \\\n",
    "                                       + s_weight2['NFLX']* Stock_return_6M['NFLX_log_return'] \\\n",
    "                                       + s_weight2['F']* Stock_return_6M['F_log_return'] \\\n",
    "                                       + s_weight2['RDSA'] * Stock_return_6M['RDSA_log_return'] \n",
    "Stock_return_6M.head()"
   ]
  },
  {
   "cell_type": "code",
   "execution_count": 29,
   "metadata": {},
   "outputs": [
    {
     "name": "stdout",
     "output_type": "stream",
     "text": [
      "portfolio value using 6 months data is: 132762.8423\n",
      "portfolio VaR in % using 6 months data is: 0.041920594040359034\n",
      "portfolio VaR in $ using 6 months data is: 5565.497215702506\n"
     ]
    }
   ],
   "source": [
    "VaR_portfolio_6M = Stock_return_6M['Portfolio_log_return'].quantile([0.01])\n",
    "VaR_portfolio_value_6M = Stock_return_6M['Portfolio_log_return'].quantile([0.01])*V_pf2\n",
    "print(\"portfolio value using 6 months data is: \" + str(V_pf2))#updated\n",
    "print(\"portfolio VaR in % using 6 months data is: \" + str(float(VaR_portfolio_6M)*-1))\n",
    "print(\"portfolio VaR in $ using 6 months data is: \" + str(float(VaR_portfolio_value_6M)*-1))"
   ]
  },
  {
   "cell_type": "code",
   "execution_count": 30,
   "metadata": {},
   "outputs": [
    {
     "name": "stdout",
     "output_type": "stream",
     "text": [
      "Expected shortfall using parametric approach is: $8839.195588279408\n"
     ]
    }
   ],
   "source": [
    "#Question 6\n",
    "alpha = 0.01\n",
    "z_square = norm.ppf(alpha, loc=0, scale=1)**2\n",
    "numer = np.exp(-z_square/2)\n",
    "denom = ((math.pi*2)**0.5)*alpha\n",
    "es=weighted_mean + volatility*numer/denom\n",
    "es_pf = es*V_pf \n",
    "print(\"Expected shortfall using parametric approach is: $\" + str(float(es_pf)))\n"
   ]
  },
  {
   "cell_type": "markdown",
   "metadata": {},
   "source": [
    "## HW1 Part 2 = Yield Curve, Spot Rates"
   ]
  },
  {
   "cell_type": "raw",
   "metadata": {},
   "source": [
    "Q7a) Build the spot rate curve using the bootstrapping method. Express your answers in percentage points and round to 2 decimal places. "
   ]
  },
  {
   "cell_type": "code",
   "execution_count": 84,
   "metadata": {},
   "outputs": [
    {
     "data": {
      "text/html": [
       "<div>\n",
       "<style scoped>\n",
       "    .dataframe tbody tr th:only-of-type {\n",
       "        vertical-align: middle;\n",
       "    }\n",
       "\n",
       "    .dataframe tbody tr th {\n",
       "        vertical-align: top;\n",
       "    }\n",
       "\n",
       "    .dataframe thead th {\n",
       "        text-align: right;\n",
       "    }\n",
       "</style>\n",
       "<table border=\"1\" class=\"dataframe\">\n",
       "  <thead>\n",
       "    <tr style=\"text-align: right;\">\n",
       "      <th></th>\n",
       "      <th>Maturity</th>\n",
       "      <th>Coupon Rate</th>\n",
       "      <th>Yield</th>\n",
       "      <th>Price</th>\n",
       "    </tr>\n",
       "  </thead>\n",
       "  <tbody>\n",
       "    <tr>\n",
       "      <th>0</th>\n",
       "      <td>1</td>\n",
       "      <td>0</td>\n",
       "      <td>1.50</td>\n",
       "      <td>98.522167</td>\n",
       "    </tr>\n",
       "    <tr>\n",
       "      <th>1</th>\n",
       "      <td>2</td>\n",
       "      <td>1.25%</td>\n",
       "      <td>1.66</td>\n",
       "      <td>99.199975</td>\n",
       "    </tr>\n",
       "    <tr>\n",
       "      <th>2</th>\n",
       "      <td>3</td>\n",
       "      <td>3.00%</td>\n",
       "      <td>1.67</td>\n",
       "      <td>103.860352</td>\n",
       "    </tr>\n",
       "    <tr>\n",
       "      <th>3</th>\n",
       "      <td>4</td>\n",
       "      <td>2.88%</td>\n",
       "      <td>1.75</td>\n",
       "      <td>104.328965</td>\n",
       "    </tr>\n",
       "    <tr>\n",
       "      <th>4</th>\n",
       "      <td>5</td>\n",
       "      <td>3.38%</td>\n",
       "      <td>1.87</td>\n",
       "      <td>107.144257</td>\n",
       "    </tr>\n",
       "    <tr>\n",
       "      <th>5</th>\n",
       "      <td>6</td>\n",
       "      <td>2.38%</td>\n",
       "      <td>1.95</td>\n",
       "      <td>102.412685</td>\n",
       "    </tr>\n",
       "    <tr>\n",
       "      <th>6</th>\n",
       "      <td>7</td>\n",
       "      <td>2.75%</td>\n",
       "      <td>2.10</td>\n",
       "      <td>104.190670</td>\n",
       "    </tr>\n",
       "  </tbody>\n",
       "</table>\n",
       "</div>"
      ],
      "text/plain": [
       "   Maturity Coupon Rate  Yield       Price\n",
       "0         1           0   1.50   98.522167\n",
       "1         2       1.25%   1.66   99.199975\n",
       "2         3       3.00%   1.67  103.860352\n",
       "3         4       2.88%   1.75  104.328965\n",
       "4         5       3.38%   1.87  107.144257\n",
       "5         6       2.38%   1.95  102.412685\n",
       "6         7       2.75%   2.10  104.190670"
      ]
     },
     "execution_count": 84,
     "metadata": {},
     "output_type": "execute_result"
    }
   ],
   "source": [
    "# Read US Treasury yields data\n",
    "GOV = pd.read_csv(\"GovBond.csv\")\n",
    "GOV"
   ]
  },
  {
   "cell_type": "code",
   "execution_count": 85,
   "metadata": {},
   "outputs": [
    {
     "data": {
      "text/html": [
       "<div>\n",
       "<style scoped>\n",
       "    .dataframe tbody tr th:only-of-type {\n",
       "        vertical-align: middle;\n",
       "    }\n",
       "\n",
       "    .dataframe tbody tr th {\n",
       "        vertical-align: top;\n",
       "    }\n",
       "\n",
       "    .dataframe thead th {\n",
       "        text-align: right;\n",
       "    }\n",
       "</style>\n",
       "<table border=\"1\" class=\"dataframe\">\n",
       "  <thead>\n",
       "    <tr style=\"text-align: right;\">\n",
       "      <th></th>\n",
       "      <th>Maturity</th>\n",
       "      <th>Coupon Rate</th>\n",
       "      <th>Yield</th>\n",
       "      <th>Price</th>\n",
       "      <th>indexer</th>\n",
       "      <th>Coupon</th>\n",
       "    </tr>\n",
       "  </thead>\n",
       "  <tbody>\n",
       "    <tr>\n",
       "      <th>0</th>\n",
       "      <td>1</td>\n",
       "      <td>0</td>\n",
       "      <td>1.50</td>\n",
       "      <td>98.522167</td>\n",
       "      <td>0</td>\n",
       "      <td>0.00</td>\n",
       "    </tr>\n",
       "    <tr>\n",
       "      <th>1</th>\n",
       "      <td>2</td>\n",
       "      <td>1.25%</td>\n",
       "      <td>1.66</td>\n",
       "      <td>99.199975</td>\n",
       "      <td>1</td>\n",
       "      <td>1.25</td>\n",
       "    </tr>\n",
       "    <tr>\n",
       "      <th>2</th>\n",
       "      <td>3</td>\n",
       "      <td>3.00%</td>\n",
       "      <td>1.67</td>\n",
       "      <td>103.860352</td>\n",
       "      <td>2</td>\n",
       "      <td>3.00</td>\n",
       "    </tr>\n",
       "    <tr>\n",
       "      <th>3</th>\n",
       "      <td>4</td>\n",
       "      <td>2.88%</td>\n",
       "      <td>1.75</td>\n",
       "      <td>104.328965</td>\n",
       "      <td>3</td>\n",
       "      <td>2.88</td>\n",
       "    </tr>\n",
       "    <tr>\n",
       "      <th>4</th>\n",
       "      <td>5</td>\n",
       "      <td>3.38%</td>\n",
       "      <td>1.87</td>\n",
       "      <td>107.144257</td>\n",
       "      <td>4</td>\n",
       "      <td>3.38</td>\n",
       "    </tr>\n",
       "    <tr>\n",
       "      <th>5</th>\n",
       "      <td>6</td>\n",
       "      <td>2.38%</td>\n",
       "      <td>1.95</td>\n",
       "      <td>102.412685</td>\n",
       "      <td>5</td>\n",
       "      <td>2.38</td>\n",
       "    </tr>\n",
       "    <tr>\n",
       "      <th>6</th>\n",
       "      <td>7</td>\n",
       "      <td>2.75%</td>\n",
       "      <td>2.10</td>\n",
       "      <td>104.190670</td>\n",
       "      <td>6</td>\n",
       "      <td>2.75</td>\n",
       "    </tr>\n",
       "  </tbody>\n",
       "</table>\n",
       "</div>"
      ],
      "text/plain": [
       "   Maturity Coupon Rate  Yield       Price  indexer  Coupon\n",
       "0         1           0   1.50   98.522167        0    0.00\n",
       "1         2       1.25%   1.66   99.199975        1    1.25\n",
       "2         3       3.00%   1.67  103.860352        2    3.00\n",
       "3         4       2.88%   1.75  104.328965        3    2.88\n",
       "4         5       3.38%   1.87  107.144257        4    3.38\n",
       "5         6       2.38%   1.95  102.412685        5    2.38\n",
       "6         7       2.75%   2.10  104.190670        6    2.75"
      ]
     },
     "execution_count": 85,
     "metadata": {},
     "output_type": "execute_result"
    }
   ],
   "source": [
    "GOV = GOV.sort_values(['Maturity'], ascending=True) #sort according to maturity first\n",
    "GOV['indexer'] = [i for i in range(len(GOV))]\n",
    "GOV['Coupon'] = [float(i[:-1]) if i != '0' else 0 for i in GOV['Coupon Rate']]\n",
    "#cannot convert string to float is string is '0', for the 1st row\n",
    "GOV"
   ]
  },
  {
   "cell_type": "code",
   "execution_count": 92,
   "metadata": {},
   "outputs": [],
   "source": [
    "def calc_spot_rate(df):\n",
    "    '''This function is used to calculate spot rate (or zero-coupon rate) for each maturity.\n",
    "    Inputs:\n",
    "    1) df: Original dataframe\n",
    "    \n",
    "    Outputs:\n",
    "    1) df: Updated dataframe   \n",
    "    \n",
    "    '''\n",
    "    \n",
    "    for index in range(df.shape[0]):\n",
    "        print(index)\n",
    "        if df.loc[index, 'Coupon'] == 0:\n",
    "            # spot rate for zero-coupon bond equals to yield rate\n",
    "            df.loc[index, 'Spot'] == df.loc[index, 'Yield']\n",
    "            \n",
    "        else:\n",
    "            print(f\"Working on index {index} \")\n",
    "            \n",
    "            price = df.loc[index, 'Price'] # present value\n",
    "            print(f\"Original price {price} \")\n",
    "            coupon = df.loc[index, 'Coupon'] # semi-annual coupon\n",
    "            for t in range(index):\n",
    "                print(f\"Coupon is {coupon}\")\n",
    "                print(f\"Spot rate to discount {1+df.loc[t, 'Spot']/100} with period {t+1}\")\n",
    "                print(1+df.loc[t, 'Spot']/100)\n",
    "                print(f\"Price = {price} - {coupon} / ({(1+df.loc[t, 'Spot']/100)}**{(t+1)})\")\n",
    "                price = price - coupon / ((1+df.loc[t, 'Spot']/100)**(t+1))\n",
    "                print(f\"Intermediate price = {price}\")\n",
    "                \n",
    "            print(f\"Final Price of {index} period bond is {price}\")\n",
    "            # Calculate spot rate\n",
    "            df.loc[index, 'Spot'] = (((100+coupon)/price)**(1/(index+1)) - 1)*100 \n",
    "            #note maturity = 2 years, is stored at index =1, but previous term need power 1, its inde is 0 so need tp index + 1\n",
    "            print(f\"Spot rate of {index+1} period bond is { df.loc[index, 'Spot']}\")"
   ]
  },
  {
   "cell_type": "code",
   "execution_count": 93,
   "metadata": {},
   "outputs": [
    {
     "name": "stdout",
     "output_type": "stream",
     "text": [
      "0\n",
      "1\n",
      "Working on index 1 \n",
      "Original price 99.19997528 \n",
      "Coupon is 1.25\n",
      "Spot rate to discount 1.015 with period 1\n",
      "1.015\n",
      "Price = 99.19997528 - 1.25 / (1.015**1)\n",
      "Intermediate price = 97.96844818640395\n",
      "Final Price of 1 period bond is 97.96844818640395\n",
      "Spot rate of 2 period bond is 1.6610056447914134\n",
      "2\n",
      "Working on index 2 \n",
      "Original price 103.86035240000001 \n",
      "Coupon is 3.0\n",
      "Spot rate to discount 1.015 with period 1\n",
      "1.015\n",
      "Price = 103.86035240000001 - 3.0 / (1.015**1)\n",
      "Intermediate price = 100.90468737536946\n",
      "Coupon is 3.0\n",
      "Spot rate to discount 1.0166100564479141 with period 2\n",
      "1.0166100564479141\n",
      "Price = 100.90468737536946 - 3.0 / (1.0166100564479141**2)\n",
      "Intermediate price = 98.00191854021675\n",
      "Final Price of 2 period bond is 98.00191854021675\n",
      "Spot rate of 3 period bond is 1.6718866030675184\n",
      "3\n",
      "Working on index 3 \n",
      "Original price 104.32896509999999 \n",
      "Coupon is 2.88\n",
      "Spot rate to discount 1.015 with period 1\n",
      "1.015\n",
      "Price = 104.32896509999999 - 2.88 / (1.015**1)\n",
      "Intermediate price = 101.49152667635467\n",
      "Coupon is 2.88\n",
      "Spot rate to discount 1.0166100564479141 with period 2\n",
      "1.0166100564479141\n",
      "Price = 101.49152667635467 - 2.88 / (1.0166100564479141**2)\n",
      "Intermediate price = 98.70486859460807\n",
      "Coupon is 2.88\n",
      "Spot rate to discount 1.0167188660306752 with period 3\n",
      "1.0167188660306752\n",
      "Price = 98.70486859460807 - 2.88 / (1.0167188660306752**3)\n",
      "Intermediate price = 95.96462077523114\n",
      "Final Price of 3 period bond is 95.96462077523114\n",
      "Spot rate of 4 period bond is 1.7548107824880255\n",
      "4\n",
      "Working on index 4 \n",
      "Original price 107.1442575 \n",
      "Coupon is 3.38\n",
      "Spot rate to discount 1.015 with period 1\n",
      "1.015\n",
      "Price = 107.1442575 - 3.38 / (1.015**1)\n",
      "Intermediate price = 103.81420823891625\n",
      "Coupon is 3.38\n",
      "Spot rate to discount 1.0166100564479141 with period 2\n",
      "1.0166100564479141\n",
      "Price = 103.81420823891625 - 3.38 / (1.0166100564479141**2)\n",
      "Intermediate price = 100.54375535131086\n",
      "Coupon is 3.38\n",
      "Spot rate to discount 1.0167188660306752 with period 3\n",
      "1.0167188660306752\n",
      "Price = 100.54375535131086 - 3.38 / (1.0167188660306752**3)\n",
      "Intermediate price = 97.3277700632921\n",
      "Coupon is 3.38\n",
      "Spot rate to discount 1.0175481078248803 with period 4\n",
      "1.0175481078248803\n",
      "Price = 97.3277700632921 - 3.38 / (1.0175481078248803**4)\n",
      "Intermediate price = 94.17496662024894\n",
      "Final Price of 4 period bond is 94.17496662024894\n",
      "Spot rate of 5 period bond is 1.8826448394944517\n",
      "5\n",
      "Working on index 5 \n",
      "Original price 102.4126848 \n",
      "Coupon is 2.38\n",
      "Spot rate to discount 1.015 with period 1\n",
      "1.015\n",
      "Price = 102.4126848 - 2.38 / (1.015**1)\n",
      "Intermediate price = 100.0678572137931\n",
      "Coupon is 2.38\n",
      "Spot rate to discount 1.0166100564479141 with period 2\n",
      "1.0166100564479141\n",
      "Price = 100.0678572137931 - 2.38 / (1.0166100564479141**2)\n",
      "Intermediate price = 97.76499393790529\n",
      "Coupon is 2.38\n",
      "Spot rate to discount 1.0167188660306752 with period 3\n",
      "1.0167188660306752\n",
      "Price = 97.76499393790529 - 2.38 / (1.0167188660306752**3)\n",
      "Intermediate price = 95.50048358717018\n",
      "Coupon is 2.38\n",
      "Spot rate to discount 1.0175481078248803 with period 4\n",
      "1.0175481078248803\n",
      "Price = 95.50048358717018 - 2.38 / (1.0175481078248803**4)\n",
      "Intermediate price = 93.28046222786759\n",
      "Coupon is 2.38\n",
      "Spot rate to discount 1.0188264483949445 with period 5\n",
      "1.0188264483949445\n",
      "Price = 93.28046222786759 - 2.38 / (1.0188264483949445**5)\n",
      "Intermediate price = 91.11237922771096\n",
      "Final Price of 5 period bond is 91.11237922771096\n",
      "Spot rate of 6 period bond is 1.9622998821302584\n",
      "6\n",
      "Working on index 6 \n",
      "Original price 104.1906705 \n",
      "Coupon is 2.75\n",
      "Spot rate to discount 1.015 with period 1\n",
      "1.015\n",
      "Price = 104.1906705 - 2.75 / (1.015**1)\n",
      "Intermediate price = 101.48131089408867\n",
      "Coupon is 2.75\n",
      "Spot rate to discount 1.0166100564479141 with period 2\n",
      "1.0166100564479141\n",
      "Price = 101.48131089408867 - 2.75 / (1.0166100564479141**2)\n",
      "Intermediate price = 98.82043946186535\n",
      "Coupon is 2.75\n",
      "Spot rate to discount 1.0167188660306752 with period 3\n",
      "1.0167188660306752\n",
      "Price = 98.82043946186535 - 2.75 / (1.0167188660306752**3)\n",
      "Intermediate price = 96.20388338433528\n",
      "Coupon is 2.75\n",
      "Spot rate to discount 1.0175481078248803 with period 4\n",
      "1.0175481078248803\n",
      "Price = 96.20388338433528 - 2.75 / (1.0175481078248803**4)\n",
      "Intermediate price = 93.63873265404868\n",
      "Coupon is 2.75\n",
      "Spot rate to discount 1.0188264483949445 with period 5\n",
      "1.0188264483949445\n",
      "Price = 93.63873265404868 - 2.75 / (1.0188264483949445**5)\n",
      "Intermediate price = 91.13359473369964\n",
      "Coupon is 2.75\n",
      "Spot rate to discount 1.0196229988213026 with period 6\n",
      "1.0196229988213026\n",
      "Price = 91.13359473369964 - 2.75 / (1.0196229988213026**6)\n",
      "Intermediate price = 88.68625108380508\n",
      "Final Price of 6 period bond is 88.68625108380508\n",
      "Spot rate of 7 period bond is 2.1250351663546274\n"
     ]
    },
    {
     "data": {
      "text/html": [
       "<div>\n",
       "<style scoped>\n",
       "    .dataframe tbody tr th:only-of-type {\n",
       "        vertical-align: middle;\n",
       "    }\n",
       "\n",
       "    .dataframe tbody tr th {\n",
       "        vertical-align: top;\n",
       "    }\n",
       "\n",
       "    .dataframe thead th {\n",
       "        text-align: right;\n",
       "    }\n",
       "</style>\n",
       "<table border=\"1\" class=\"dataframe\">\n",
       "  <thead>\n",
       "    <tr style=\"text-align: right;\">\n",
       "      <th></th>\n",
       "      <th>Maturity</th>\n",
       "      <th>Coupon Rate</th>\n",
       "      <th>Yield</th>\n",
       "      <th>Price</th>\n",
       "      <th>indexer</th>\n",
       "      <th>Coupon</th>\n",
       "      <th>Spot</th>\n",
       "    </tr>\n",
       "  </thead>\n",
       "  <tbody>\n",
       "    <tr>\n",
       "      <th>0</th>\n",
       "      <td>1</td>\n",
       "      <td>0</td>\n",
       "      <td>1.50</td>\n",
       "      <td>98.522167</td>\n",
       "      <td>0</td>\n",
       "      <td>0.00</td>\n",
       "      <td>1.500000</td>\n",
       "    </tr>\n",
       "    <tr>\n",
       "      <th>1</th>\n",
       "      <td>2</td>\n",
       "      <td>1.25%</td>\n",
       "      <td>1.66</td>\n",
       "      <td>99.199975</td>\n",
       "      <td>1</td>\n",
       "      <td>1.25</td>\n",
       "      <td>1.661006</td>\n",
       "    </tr>\n",
       "    <tr>\n",
       "      <th>2</th>\n",
       "      <td>3</td>\n",
       "      <td>3.00%</td>\n",
       "      <td>1.67</td>\n",
       "      <td>103.860352</td>\n",
       "      <td>2</td>\n",
       "      <td>3.00</td>\n",
       "      <td>1.671887</td>\n",
       "    </tr>\n",
       "    <tr>\n",
       "      <th>3</th>\n",
       "      <td>4</td>\n",
       "      <td>2.88%</td>\n",
       "      <td>1.75</td>\n",
       "      <td>104.328965</td>\n",
       "      <td>3</td>\n",
       "      <td>2.88</td>\n",
       "      <td>1.754811</td>\n",
       "    </tr>\n",
       "    <tr>\n",
       "      <th>4</th>\n",
       "      <td>5</td>\n",
       "      <td>3.38%</td>\n",
       "      <td>1.87</td>\n",
       "      <td>107.144257</td>\n",
       "      <td>4</td>\n",
       "      <td>3.38</td>\n",
       "      <td>1.882645</td>\n",
       "    </tr>\n",
       "    <tr>\n",
       "      <th>5</th>\n",
       "      <td>6</td>\n",
       "      <td>2.38%</td>\n",
       "      <td>1.95</td>\n",
       "      <td>102.412685</td>\n",
       "      <td>5</td>\n",
       "      <td>2.38</td>\n",
       "      <td>1.962300</td>\n",
       "    </tr>\n",
       "    <tr>\n",
       "      <th>6</th>\n",
       "      <td>7</td>\n",
       "      <td>2.75%</td>\n",
       "      <td>2.10</td>\n",
       "      <td>104.190670</td>\n",
       "      <td>6</td>\n",
       "      <td>2.75</td>\n",
       "      <td>2.125035</td>\n",
       "    </tr>\n",
       "  </tbody>\n",
       "</table>\n",
       "</div>"
      ],
      "text/plain": [
       "   Maturity Coupon Rate  Yield       Price  indexer  Coupon      Spot\n",
       "0         1           0   1.50   98.522167        0    0.00  1.500000\n",
       "1         2       1.25%   1.66   99.199975        1    1.25  1.661006\n",
       "2         3       3.00%   1.67  103.860352        2    3.00  1.671887\n",
       "3         4       2.88%   1.75  104.328965        3    2.88  1.754811\n",
       "4         5       3.38%   1.87  107.144257        4    3.38  1.882645\n",
       "5         6       2.38%   1.95  102.412685        5    2.38  1.962300\n",
       "6         7       2.75%   2.10  104.190670        6    2.75  2.125035"
      ]
     },
     "execution_count": 93,
     "metadata": {},
     "output_type": "execute_result"
    }
   ],
   "source": [
    "GOV['Spot'] = GOV['Yield']\n",
    "calc_spot_rate(GOV)\n",
    "GOV"
   ]
  },
  {
   "cell_type": "code",
   "execution_count": 103,
   "metadata": {},
   "outputs": [
    {
     "data": {
      "image/png": "[encoded data removed]",
      "text/plain": [
       "<Figure size 720x360 with 1 Axes>"
      ]
     },
     "metadata": {
      "needs_background": "light"
     },
     "output_type": "display_data"
    }
   ],
   "source": [
    "plt.figure(figsize=(10, 5))\n",
    "plt.grid(True)\n",
    "plt.plot(GOV['Maturity'], GOV['Spot'], 'r-', label='Zero-coupon Spot Rate')\n",
    "plt.plot(GOV['Maturity'], GOV['Yield'], 'g--', label='Yield to Maturity')\n",
    "plt.legend(bbox_to_anchor=(1.05, 1), loc=2, borderaxespad=0.)\n",
    "plt.title(\"Zero Curve vs Yield Curve\")\n",
    "plt.ylabel(\"Interest Rate (%)\")\n",
    "plt.xlabel(\"Maturity in Years\")\n",
    "plt.show()"
   ]
  },
  {
   "cell_type": "markdown",
   "metadata": {},
   "source": [
    "Q7b) Plot the forward curve, yield and spot rate curves on the same graph. \n",
    "Note: in the tutorial, the code was written to calculate a 6 month forward. In this case, the data and forward curve do not need to be de-annualized. Also, note there is a difference in the term structure (i.e. the tutorial starts with a bond with a maturity of 3 months, but not the assignment). The code will have to be amended to account for these differences. \n"
   ]
  },
  {
   "cell_type": "code",
   "execution_count": 99,
   "metadata": {},
   "outputs": [],
   "source": [
    "def calc_1_year_forward_rate(df):\n",
    "    '''This function is used to calculate spot rate (or zero-coupon rate) for each maturity.\n",
    "    Inputs:\n",
    "    1) df: Original dataframe\n",
    "    2) yr: How many years forward\n",
    "    \n",
    "    Outputs:\n",
    "    1) df: Updated dataframe   \n",
    "    \n",
    "    '''\n",
    "    \n",
    "    name = str(1)+'year_'+'forward'\n",
    "    df[name] = np.nan \n",
    "  \n",
    "    for index in range(1,df.shape[0]-1):\n",
    "        \n",
    "        spot_fyr = df.loc[index+1, 'Spot'] # Spot rate of 1 period later\n",
    "        #print(f\"Period # is {index}\")\n",
    "        #print(f\"Period ahead spot discount is {spot_fyr/100}\") \n",
    "        \n",
    "        spot = df.loc[index, 'Spot'] # Spot rate currently\n",
    "        #print(f\"Current spot is {spot/100}\")\n",
    "        effect_spot_fyr = (1+spot_fyr/100)**(index+1) # Compound by deannualized spot rate for n+1 periods\n",
    "        #print(f\"Eff spot fyr is {(1+spot_fyr/100)} ** {index+1}  = {effect_spot_fyr}\")\n",
    "        \n",
    "        effect_spot = (1+spot/100)**(index) # Compound by deannualized spot rate for n periods\n",
    "        #print(f\"Eff spot is {(1+spot/100)}** {(index)} = {effect_spot} = \")\n",
    "\n",
    "        #print(f\"Effect_spot_fyr/Effect_spot = {effect_spot_fyr}/{effect_spot} = {effect_spot_fyr/effect_spot}\") \n",
    "        #the forward rate is the spot rate for n+1 periods compounded over n+1 period divided by \n",
    "        #spot rate for n periods compounded over n periods - as formula for forward (refer to slides!)\n",
    "        forward = 200 * ((effect_spot_fyr / effect_spot) - 1)\n",
    "        #print(f\"Effect_spot_fyr/Effect_spot = {effect_spot_fyr}/{effect_spot} = {effect_spot_fyr/effect_spot}\") \n",
    "        df.loc[index, name] = forward\n",
    "        \n",
    "        #print spot_fyr, spot, effect_spot_fyr, effect_spot, forward"
   ]
  },
  {
   "cell_type": "code",
   "execution_count": 100,
   "metadata": {},
   "outputs": [
    {
     "data": {
      "text/html": [
       "<div>\n",
       "<style scoped>\n",
       "    .dataframe tbody tr th:only-of-type {\n",
       "        vertical-align: middle;\n",
       "    }\n",
       "\n",
       "    .dataframe tbody tr th {\n",
       "        vertical-align: top;\n",
       "    }\n",
       "\n",
       "    .dataframe thead th {\n",
       "        text-align: right;\n",
       "    }\n",
       "</style>\n",
       "<table border=\"1\" class=\"dataframe\">\n",
       "  <thead>\n",
       "    <tr style=\"text-align: right;\">\n",
       "      <th></th>\n",
       "      <th>Maturity</th>\n",
       "      <th>Coupon Rate</th>\n",
       "      <th>Yield</th>\n",
       "      <th>Price</th>\n",
       "      <th>indexer</th>\n",
       "      <th>Coupon</th>\n",
       "      <th>Spot</th>\n",
       "      <th>1year_forward</th>\n",
       "    </tr>\n",
       "  </thead>\n",
       "  <tbody>\n",
       "    <tr>\n",
       "      <th>0</th>\n",
       "      <td>1</td>\n",
       "      <td>0</td>\n",
       "      <td>1.50</td>\n",
       "      <td>98.522167</td>\n",
       "      <td>0</td>\n",
       "      <td>0.00</td>\n",
       "      <td>1.500000</td>\n",
       "      <td>NaN</td>\n",
       "    </tr>\n",
       "    <tr>\n",
       "      <th>1</th>\n",
       "      <td>2</td>\n",
       "      <td>1.25%</td>\n",
       "      <td>1.66</td>\n",
       "      <td>99.199975</td>\n",
       "      <td>1</td>\n",
       "      <td>1.25</td>\n",
       "      <td>1.661006</td>\n",
       "      <td>3.365537</td>\n",
       "    </tr>\n",
       "    <tr>\n",
       "      <th>2</th>\n",
       "      <td>3</td>\n",
       "      <td>3.00%</td>\n",
       "      <td>1.67</td>\n",
       "      <td>103.860352</td>\n",
       "      <td>2</td>\n",
       "      <td>3.00</td>\n",
       "      <td>1.671887</td>\n",
       "      <td>3.841724</td>\n",
       "    </tr>\n",
       "    <tr>\n",
       "      <th>3</th>\n",
       "      <td>4</td>\n",
       "      <td>2.88%</td>\n",
       "      <td>1.75</td>\n",
       "      <td>104.328965</td>\n",
       "      <td>3</td>\n",
       "      <td>2.88</td>\n",
       "      <td>1.754811</td>\n",
       "      <td>4.534223</td>\n",
       "    </tr>\n",
       "    <tr>\n",
       "      <th>4</th>\n",
       "      <td>5</td>\n",
       "      <td>3.38%</td>\n",
       "      <td>1.87</td>\n",
       "      <td>107.144257</td>\n",
       "      <td>4</td>\n",
       "      <td>3.38</td>\n",
       "      <td>1.882645</td>\n",
       "      <td>4.563087</td>\n",
       "    </tr>\n",
       "    <tr>\n",
       "      <th>5</th>\n",
       "      <td>6</td>\n",
       "      <td>2.38%</td>\n",
       "      <td>1.95</td>\n",
       "      <td>102.412685</td>\n",
       "      <td>5</td>\n",
       "      <td>2.38</td>\n",
       "      <td>1.962300</td>\n",
       "      <td>5.885232</td>\n",
       "    </tr>\n",
       "    <tr>\n",
       "      <th>6</th>\n",
       "      <td>7</td>\n",
       "      <td>2.75%</td>\n",
       "      <td>2.10</td>\n",
       "      <td>104.190670</td>\n",
       "      <td>6</td>\n",
       "      <td>2.75</td>\n",
       "      <td>2.125035</td>\n",
       "      <td>NaN</td>\n",
       "    </tr>\n",
       "  </tbody>\n",
       "</table>\n",
       "</div>"
      ],
      "text/plain": [
       "   Maturity Coupon Rate  Yield       Price  indexer  Coupon      Spot  \\\n",
       "0         1           0   1.50   98.522167        0    0.00  1.500000   \n",
       "1         2       1.25%   1.66   99.199975        1    1.25  1.661006   \n",
       "2         3       3.00%   1.67  103.860352        2    3.00  1.671887   \n",
       "3         4       2.88%   1.75  104.328965        3    2.88  1.754811   \n",
       "4         5       3.38%   1.87  107.144257        4    3.38  1.882645   \n",
       "5         6       2.38%   1.95  102.412685        5    2.38  1.962300   \n",
       "6         7       2.75%   2.10  104.190670        6    2.75  2.125035   \n",
       "\n",
       "   1year_forward  \n",
       "0            NaN  \n",
       "1       3.365537  \n",
       "2       3.841724  \n",
       "3       4.534223  \n",
       "4       4.563087  \n",
       "5       5.885232  \n",
       "6            NaN  "
      ]
     },
     "execution_count": 100,
     "metadata": {},
     "output_type": "execute_result"
    }
   ],
   "source": [
    "calc_1_year_forward_rate(GOV)\n",
    "GOV"
   ]
  },
  {
   "cell_type": "code",
   "execution_count": 101,
   "metadata": {},
   "outputs": [
    {
     "data": {
      "image/png": "[encoded data removed]",
      "text/plain": [
       "<Figure size 720x360 with 1 Axes>"
      ]
     },
     "metadata": {
      "needs_background": "light"
     },
     "output_type": "display_data"
    }
   ],
   "source": [
    "plt.figure(figsize=(10, 5))\n",
    "plt.grid(True)\n",
    "plt.plot(GOV['Maturity'], GOV['Spot'], 'r-', label='Zero-coupon Spot Rate')\n",
    "plt.plot(GOV['Maturity'], GOV['1year_forward'], 'b-.', label='1 year Forward Rate')\n",
    "plt.plot(GOV['Maturity'], GOV['Yield'], 'g--', label='Yield to Maturity')\n",
    "plt.legend(bbox_to_anchor=(1.05, 1), loc=2, borderaxespad=0.)\n",
    "plt.title(\"Yield Curve\")\n",
    "plt.ylabel(\"Interest Rate (%)\")\n",
    "plt.xlabel(\"Maturity in Years\")\n",
    "plt.show()"
   ]
  },
  {
   "cell_type": "code",
   "execution_count": null,
   "metadata": {},
   "outputs": [],
   "source": []
  }
 ],
 "metadata": {
  "kernelspec": {
   "display_name": "Python 3",
   "language": "python",
   "name": "python3"
  },
  "language_info": {
   "codemirror_mode": {
    "name": "ipython",
    "version": 3
   },
   "file_extension": ".py",
   "mimetype": "text/x-python",
   "name": "python",
   "nbconvert_exporter": "python",
   "pygments_lexer": "ipython3",
   "version": "3.7.3"
  }
 },
 "nbformat": 4,
 "nbformat_minor": 2
}
