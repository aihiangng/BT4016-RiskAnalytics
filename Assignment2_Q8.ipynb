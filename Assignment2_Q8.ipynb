{
 "cells": [
  {
   "cell_type": "code",
   "execution_count": 1,
   "metadata": {},
   "outputs": [],
   "source": [
    "import pandas as pd\n",
    "from sklearn.model_selection import train_test_split\n",
    "from sklearn.metrics import classification_report, confusion_matrix, accuracy_score, f1_score, matthews_corrcoef\n",
    "from sklearn.linear_model import LogisticRegression\n",
    "from sklearn.tree import DecisionTreeClassifier\n",
    "from xgboost import XGBClassifier\n",
    "from sklearn.ensemble import RandomForestClassifier, VotingClassifier\n",
    "import numpy as np\n",
    "from sklearn.model_selection import GridSearchCV\n",
    "from sklearn.preprocessing import StandardScaler"
   ]
  },
  {
   "cell_type": "code",
   "execution_count": 2,
   "metadata": {},
   "outputs": [
    {
     "data": {
      "text/html": [
       "<div>\n",
       "<style scoped>\n",
       "    .dataframe tbody tr th:only-of-type {\n",
       "        vertical-align: middle;\n",
       "    }\n",
       "\n",
       "    .dataframe tbody tr th {\n",
       "        vertical-align: top;\n",
       "    }\n",
       "\n",
       "    .dataframe thead th {\n",
       "        text-align: right;\n",
       "    }\n",
       "</style>\n",
       "<table border=\"1\" class=\"dataframe\">\n",
       "  <thead>\n",
       "    <tr style=\"text-align: right;\">\n",
       "      <th></th>\n",
       "      <th>acc_now_delinq</th>\n",
       "      <th>acc_open_past_24mths</th>\n",
       "      <th>all_util</th>\n",
       "      <th>annual_inc</th>\n",
       "      <th>avg_cur_bal</th>\n",
       "      <th>bc_open_to_buy</th>\n",
       "      <th>bc_util</th>\n",
       "      <th>chargeoff_within_12_mths</th>\n",
       "      <th>collections_12_mths_ex_med</th>\n",
       "      <th>delinq_amnt</th>\n",
       "      <th>...</th>\n",
       "      <th>total_cu_tl</th>\n",
       "      <th>total_il_high_credit_limit</th>\n",
       "      <th>total_pymnt</th>\n",
       "      <th>total_pymnt_inv</th>\n",
       "      <th>total_rec_int</th>\n",
       "      <th>total_rec_late_fee</th>\n",
       "      <th>total_rec_prncp</th>\n",
       "      <th>total_rev_hi_lim</th>\n",
       "      <th>delinq_2yrs</th>\n",
       "      <th>bad_loans</th>\n",
       "    </tr>\n",
       "  </thead>\n",
       "  <tbody>\n",
       "    <tr>\n",
       "      <th>0</th>\n",
       "      <td>0.0</td>\n",
       "      <td>3.0</td>\n",
       "      <td>1.0</td>\n",
       "      <td>52000.0</td>\n",
       "      <td>25099.0</td>\n",
       "      <td>30359.0</td>\n",
       "      <td>0.5</td>\n",
       "      <td>0.0</td>\n",
       "      <td>0.0</td>\n",
       "      <td>0.0</td>\n",
       "      <td>...</td>\n",
       "      <td>2.0</td>\n",
       "      <td>0.0</td>\n",
       "      <td>3011.577285</td>\n",
       "      <td>3011.58</td>\n",
       "      <td>11.58</td>\n",
       "      <td>0.0</td>\n",
       "      <td>3000.00</td>\n",
       "      <td>31000.0</td>\n",
       "      <td>0.0</td>\n",
       "      <td>0</td>\n",
       "    </tr>\n",
       "    <tr>\n",
       "      <th>1</th>\n",
       "      <td>0.0</td>\n",
       "      <td>2.0</td>\n",
       "      <td>47.0</td>\n",
       "      <td>55000.0</td>\n",
       "      <td>2222.0</td>\n",
       "      <td>10551.0</td>\n",
       "      <td>52.0</td>\n",
       "      <td>0.0</td>\n",
       "      <td>0.0</td>\n",
       "      <td>0.0</td>\n",
       "      <td>...</td>\n",
       "      <td>1.0</td>\n",
       "      <td>27751.0</td>\n",
       "      <td>5013.306667</td>\n",
       "      <td>5013.31</td>\n",
       "      <td>13.31</td>\n",
       "      <td>0.0</td>\n",
       "      <td>5000.00</td>\n",
       "      <td>33800.0</td>\n",
       "      <td>0.0</td>\n",
       "      <td>0</td>\n",
       "    </tr>\n",
       "    <tr>\n",
       "      <th>2</th>\n",
       "      <td>0.0</td>\n",
       "      <td>3.0</td>\n",
       "      <td>86.0</td>\n",
       "      <td>51000.0</td>\n",
       "      <td>4541.0</td>\n",
       "      <td>2498.0</td>\n",
       "      <td>0.1</td>\n",
       "      <td>0.0</td>\n",
       "      <td>0.0</td>\n",
       "      <td>0.0</td>\n",
       "      <td>...</td>\n",
       "      <td>0.0</td>\n",
       "      <td>24001.0</td>\n",
       "      <td>1032.903619</td>\n",
       "      <td>1032.90</td>\n",
       "      <td>32.90</td>\n",
       "      <td>0.0</td>\n",
       "      <td>1000.00</td>\n",
       "      <td>2500.0</td>\n",
       "      <td>0.0</td>\n",
       "      <td>0</td>\n",
       "    </tr>\n",
       "    <tr>\n",
       "      <th>3</th>\n",
       "      <td>0.0</td>\n",
       "      <td>2.0</td>\n",
       "      <td>41.0</td>\n",
       "      <td>62000.0</td>\n",
       "      <td>18520.0</td>\n",
       "      <td>18310.0</td>\n",
       "      <td>51.2</td>\n",
       "      <td>0.0</td>\n",
       "      <td>0.0</td>\n",
       "      <td>0.0</td>\n",
       "      <td>...</td>\n",
       "      <td>0.0</td>\n",
       "      <td>21976.0</td>\n",
       "      <td>20009.805556</td>\n",
       "      <td>19984.79</td>\n",
       "      <td>9.81</td>\n",
       "      <td>0.0</td>\n",
       "      <td>20000.00</td>\n",
       "      <td>39500.0</td>\n",
       "      <td>0.0</td>\n",
       "      <td>0</td>\n",
       "    </tr>\n",
       "    <tr>\n",
       "      <th>4</th>\n",
       "      <td>0.0</td>\n",
       "      <td>11.0</td>\n",
       "      <td>60.0</td>\n",
       "      <td>30000.0</td>\n",
       "      <td>5990.0</td>\n",
       "      <td>7898.0</td>\n",
       "      <td>7.1</td>\n",
       "      <td>0.0</td>\n",
       "      <td>0.0</td>\n",
       "      <td>0.0</td>\n",
       "      <td>...</td>\n",
       "      <td>5.0</td>\n",
       "      <td>62319.0</td>\n",
       "      <td>24334.736554</td>\n",
       "      <td>24334.74</td>\n",
       "      <td>334.74</td>\n",
       "      <td>0.0</td>\n",
       "      <td>24000.00</td>\n",
       "      <td>12000.0</td>\n",
       "      <td>0.0</td>\n",
       "      <td>0</td>\n",
       "    </tr>\n",
       "    <tr>\n",
       "      <th>5</th>\n",
       "      <td>0.0</td>\n",
       "      <td>3.0</td>\n",
       "      <td>32.0</td>\n",
       "      <td>58000.0</td>\n",
       "      <td>16129.0</td>\n",
       "      <td>10282.0</td>\n",
       "      <td>6.5</td>\n",
       "      <td>0.0</td>\n",
       "      <td>0.0</td>\n",
       "      <td>0.0</td>\n",
       "      <td>...</td>\n",
       "      <td>0.0</td>\n",
       "      <td>68112.0</td>\n",
       "      <td>265.850000</td>\n",
       "      <td>265.30</td>\n",
       "      <td>223.63</td>\n",
       "      <td>15.0</td>\n",
       "      <td>27.22</td>\n",
       "      <td>11000.0</td>\n",
       "      <td>1.0</td>\n",
       "      <td>1</td>\n",
       "    </tr>\n",
       "    <tr>\n",
       "      <th>6</th>\n",
       "      <td>0.0</td>\n",
       "      <td>2.0</td>\n",
       "      <td>57.0</td>\n",
       "      <td>48000.0</td>\n",
       "      <td>2855.0</td>\n",
       "      <td>7459.0</td>\n",
       "      <td>25.4</td>\n",
       "      <td>0.0</td>\n",
       "      <td>0.0</td>\n",
       "      <td>0.0</td>\n",
       "      <td>...</td>\n",
       "      <td>0.0</td>\n",
       "      <td>27697.0</td>\n",
       "      <td>0.000000</td>\n",
       "      <td>0.00</td>\n",
       "      <td>0.00</td>\n",
       "      <td>0.0</td>\n",
       "      <td>0.00</td>\n",
       "      <td>12200.0</td>\n",
       "      <td>1.0</td>\n",
       "      <td>1</td>\n",
       "    </tr>\n",
       "    <tr>\n",
       "      <th>7</th>\n",
       "      <td>0.0</td>\n",
       "      <td>21.0</td>\n",
       "      <td>32.0</td>\n",
       "      <td>186500.0</td>\n",
       "      <td>2443.0</td>\n",
       "      <td>107477.0</td>\n",
       "      <td>18.8</td>\n",
       "      <td>0.0</td>\n",
       "      <td>0.0</td>\n",
       "      <td>0.0</td>\n",
       "      <td>...</td>\n",
       "      <td>0.0</td>\n",
       "      <td>57714.0</td>\n",
       "      <td>20117.246667</td>\n",
       "      <td>20117.25</td>\n",
       "      <td>117.25</td>\n",
       "      <td>0.0</td>\n",
       "      <td>20000.00</td>\n",
       "      <td>139400.0</td>\n",
       "      <td>0.0</td>\n",
       "      <td>0</td>\n",
       "    </tr>\n",
       "    <tr>\n",
       "      <th>8</th>\n",
       "      <td>0.0</td>\n",
       "      <td>7.0</td>\n",
       "      <td>58.0</td>\n",
       "      <td>12000.0</td>\n",
       "      <td>48449.0</td>\n",
       "      <td>100.0</td>\n",
       "      <td>96.0</td>\n",
       "      <td>0.0</td>\n",
       "      <td>0.0</td>\n",
       "      <td>0.0</td>\n",
       "      <td>...</td>\n",
       "      <td>0.0</td>\n",
       "      <td>0.0</td>\n",
       "      <td>15424.086919</td>\n",
       "      <td>15424.09</td>\n",
       "      <td>424.09</td>\n",
       "      <td>0.0</td>\n",
       "      <td>15000.00</td>\n",
       "      <td>12400.0</td>\n",
       "      <td>1.0</td>\n",
       "      <td>0</td>\n",
       "    </tr>\n",
       "    <tr>\n",
       "      <th>9</th>\n",
       "      <td>0.0</td>\n",
       "      <td>4.0</td>\n",
       "      <td>74.0</td>\n",
       "      <td>54000.0</td>\n",
       "      <td>11336.0</td>\n",
       "      <td>6635.0</td>\n",
       "      <td>44.7</td>\n",
       "      <td>0.0</td>\n",
       "      <td>0.0</td>\n",
       "      <td>0.0</td>\n",
       "      <td>...</td>\n",
       "      <td>3.0</td>\n",
       "      <td>34050.0</td>\n",
       "      <td>2505.296389</td>\n",
       "      <td>2505.30</td>\n",
       "      <td>5.30</td>\n",
       "      <td>0.0</td>\n",
       "      <td>2500.00</td>\n",
       "      <td>12000.0</td>\n",
       "      <td>0.0</td>\n",
       "      <td>0</td>\n",
       "    </tr>\n",
       "  </tbody>\n",
       "</table>\n",
       "<p>10 rows × 71 columns</p>\n",
       "</div>"
      ],
      "text/plain": [
       "   acc_now_delinq  acc_open_past_24mths  all_util  annual_inc  avg_cur_bal  \\\n",
       "0             0.0                   3.0       1.0     52000.0      25099.0   \n",
       "1             0.0                   2.0      47.0     55000.0       2222.0   \n",
       "2             0.0                   3.0      86.0     51000.0       4541.0   \n",
       "3             0.0                   2.0      41.0     62000.0      18520.0   \n",
       "4             0.0                  11.0      60.0     30000.0       5990.0   \n",
       "5             0.0                   3.0      32.0     58000.0      16129.0   \n",
       "6             0.0                   2.0      57.0     48000.0       2855.0   \n",
       "7             0.0                  21.0      32.0    186500.0       2443.0   \n",
       "8             0.0                   7.0      58.0     12000.0      48449.0   \n",
       "9             0.0                   4.0      74.0     54000.0      11336.0   \n",
       "\n",
       "   bc_open_to_buy  bc_util  chargeoff_within_12_mths  \\\n",
       "0         30359.0      0.5                       0.0   \n",
       "1         10551.0     52.0                       0.0   \n",
       "2          2498.0      0.1                       0.0   \n",
       "3         18310.0     51.2                       0.0   \n",
       "4          7898.0      7.1                       0.0   \n",
       "5         10282.0      6.5                       0.0   \n",
       "6          7459.0     25.4                       0.0   \n",
       "7        107477.0     18.8                       0.0   \n",
       "8           100.0     96.0                       0.0   \n",
       "9          6635.0     44.7                       0.0   \n",
       "\n",
       "   collections_12_mths_ex_med  delinq_amnt  ...  total_cu_tl  \\\n",
       "0                         0.0          0.0  ...          2.0   \n",
       "1                         0.0          0.0  ...          1.0   \n",
       "2                         0.0          0.0  ...          0.0   \n",
       "3                         0.0          0.0  ...          0.0   \n",
       "4                         0.0          0.0  ...          5.0   \n",
       "5                         0.0          0.0  ...          0.0   \n",
       "6                         0.0          0.0  ...          0.0   \n",
       "7                         0.0          0.0  ...          0.0   \n",
       "8                         0.0          0.0  ...          0.0   \n",
       "9                         0.0          0.0  ...          3.0   \n",
       "\n",
       "   total_il_high_credit_limit   total_pymnt  total_pymnt_inv  total_rec_int  \\\n",
       "0                         0.0   3011.577285          3011.58          11.58   \n",
       "1                     27751.0   5013.306667          5013.31          13.31   \n",
       "2                     24001.0   1032.903619          1032.90          32.90   \n",
       "3                     21976.0  20009.805556         19984.79           9.81   \n",
       "4                     62319.0  24334.736554         24334.74         334.74   \n",
       "5                     68112.0    265.850000           265.30         223.63   \n",
       "6                     27697.0      0.000000             0.00           0.00   \n",
       "7                     57714.0  20117.246667         20117.25         117.25   \n",
       "8                         0.0  15424.086919         15424.09         424.09   \n",
       "9                     34050.0   2505.296389          2505.30           5.30   \n",
       "\n",
       "   total_rec_late_fee  total_rec_prncp  total_rev_hi_lim  delinq_2yrs  \\\n",
       "0                 0.0          3000.00           31000.0          0.0   \n",
       "1                 0.0          5000.00           33800.0          0.0   \n",
       "2                 0.0          1000.00            2500.0          0.0   \n",
       "3                 0.0         20000.00           39500.0          0.0   \n",
       "4                 0.0         24000.00           12000.0          0.0   \n",
       "5                15.0            27.22           11000.0          1.0   \n",
       "6                 0.0             0.00           12200.0          1.0   \n",
       "7                 0.0         20000.00          139400.0          0.0   \n",
       "8                 0.0         15000.00           12400.0          1.0   \n",
       "9                 0.0          2500.00           12000.0          0.0   \n",
       "\n",
       "   bad_loans  \n",
       "0          0  \n",
       "1          0  \n",
       "2          0  \n",
       "3          0  \n",
       "4          0  \n",
       "5          1  \n",
       "6          1  \n",
       "7          0  \n",
       "8          0  \n",
       "9          0  \n",
       "\n",
       "[10 rows x 71 columns]"
      ]
     },
     "execution_count": 2,
     "metadata": {},
     "output_type": "execute_result"
    }
   ],
   "source": [
    "loans = pd.read_csv('Assignment2Data.csv', low_memory=False, header=0)\n",
    "#loans = pd.read_csv(\"./Assignment2Data.csv\", low_memory=False, header=0)\n",
    "loans.head(n=10)"
   ]
  },
  {
   "cell_type": "code",
   "execution_count": 3,
   "metadata": {},
   "outputs": [
    {
     "data": {
      "text/plain": [
       "0    2516\n",
       "1     476\n",
       "Name: bad_loans, dtype: int64"
      ]
     },
     "execution_count": 3,
     "metadata": {},
     "output_type": "execute_result"
    }
   ],
   "source": [
    "# Check how many good and bad loans there are\n",
    "loans['bad_loans'].value_counts()"
   ]
  },
  {
   "cell_type": "markdown",
   "metadata": {},
   "source": [
    "### Oversample Bad Loans so that it is proportionate"
   ]
  },
  {
   "cell_type": "code",
   "execution_count": 4,
   "metadata": {},
   "outputs": [
    {
     "data": {
      "text/plain": [
       "1    2516\n",
       "0    2516\n",
       "Name: bad_loans, dtype: int64"
      ]
     },
     "execution_count": 4,
     "metadata": {},
     "output_type": "execute_result"
    }
   ],
   "source": [
    "# Class count\n",
    "count_class_0, count_class_1 = loans['bad_loans'].value_counts()\n",
    "\n",
    "# Divide by class\n",
    "df_class_0 = loans[loans['bad_loans'] == 0]\n",
    "df_class_1 = loans[loans['bad_loans'] == 1]\n",
    "\n",
    "df_class_1_over = df_class_1.sample(count_class_0, replace=True, random_state=1234)\n",
    "\n",
    "# Address unblanced data issue: Oversampling on data samples with rare outputs (which is '1' in this example)\n",
    "df_class_1_over = df_class_1.sample(count_class_0, replace=True, random_state=1234)\n",
    "loans = pd.concat([df_class_1_over, df_class_0], axis=0)\n",
    "\n",
    "loans['bad_loans'].value_counts()"
   ]
  },
  {
   "cell_type": "markdown",
   "metadata": {},
   "source": [
    "### Split Data 80/20"
   ]
  },
  {
   "cell_type": "code",
   "execution_count": 5,
   "metadata": {},
   "outputs": [],
   "source": [
    "X = loans.drop('bad_loans', axis=1) # Here no need to set inplace=True\n",
    "Y = loans['bad_loans']"
   ]
  },
  {
   "cell_type": "code",
   "execution_count": 6,
   "metadata": {},
   "outputs": [],
   "source": [
    "validation_size = 0.2\n",
    "seed = 1234\n",
    "X_train_noscale, X_test_noscale, Y_train, Y_test = train_test_split(X, Y, test_size=validation_size, random_state=seed)"
   ]
  },
  {
   "cell_type": "code",
   "execution_count": 7,
   "metadata": {},
   "outputs": [],
   "source": [
    "# Normalize features\n",
    "scaler = StandardScaler()\n",
    "X_train = scaler.fit_transform(X_train_noscale)\n",
    "X_test= scaler.transform(X_test_noscale) #changes numpy. change back to df\n",
    "\n",
    "X_train = pd.DataFrame(X_train, index=X_train_noscale.index, columns=X_train_noscale.columns)\n",
    "X_test = pd.DataFrame(X_test, index=X_test_noscale.index, columns=X_test_noscale.columns)"
   ]
  },
  {
   "cell_type": "markdown",
   "metadata": {},
   "source": [
    "## Feature Selection ##\n",
    "\n",
    "Recursive Feature Elimination (RFE)"
   ]
  },
  {
   "cell_type": "code",
   "execution_count": 8,
   "metadata": {},
   "outputs": [],
   "source": [
    "from sklearn.feature_selection import RFE\n",
    "from sklearn.linear_model import LogisticRegression\n",
    "model = LogisticRegression(solver='lbfgs', max_iter=1000) #fail to converge even when max_iter set to 1000\n",
    "rfe = RFE(model, 15)\n",
    "fit = rfe.fit(X_train, Y_train)\n"
   ]
  },
  {
   "cell_type": "code",
   "execution_count": 9,
   "metadata": {},
   "outputs": [
    {
     "name": "stdout",
     "output_type": "stream",
     "text": [
      "['installment', 'int_rate', 'last_pymnt_amnt', 'loan_amnt', 'out_prncp', 'out_prncp_inv', 'tot_cur_bal', 'tot_hi_cred_lim', 'total_bal_ex_mort', 'total_bal_il', 'total_pymnt', 'total_pymnt_inv', 'total_rec_int', 'total_rec_prncp', 'total_rev_hi_lim']\n"
     ]
    }
   ],
   "source": [
    "from itertools import compress\n",
    "cols = list(compress(X.columns, fit.support_))\n",
    "print(cols)"
   ]
  },
  {
   "cell_type": "code",
   "execution_count": 10,
   "metadata": {},
   "outputs": [],
   "source": [
    "X_train2 = X_train[cols]\n",
    "X_test2 = X_test[cols]"
   ]
  },
  {
   "cell_type": "markdown",
   "metadata": {},
   "source": [
    "## Model Selection ##\n",
    "\n",
    "Test out different model + gridsearchCV\n",
    "\n",
    "1) Logistic Regression\n",
    "\n",
    "2) Decision Tree\n",
    "\n",
    "3) XGBoost Classifier\n",
    "\n",
    "4) Random Forest Classfier \n",
    "\n",
    "5) Voting Classfier"
   ]
  },
  {
   "cell_type": "code",
   "execution_count": 11,
   "metadata": {},
   "outputs": [],
   "source": [
    "def get_results(predictions):\n",
    "    print(\"Accuracy score is: \" + str(accuracy_score(Y_test, predictions)))\n",
    "    #print(\"F1_score is: \" + str(f1_score(Y_test, predictions)))\n",
    "    print(\"MCC: \", matthews_corrcoef(Y_test, predictions))\n",
    "    print(\"Confusion Matrix\")\n",
    "    print(confusion_matrix(Y_test, predictions))\n",
    "    return"
   ]
  },
  {
   "cell_type": "markdown",
   "metadata": {},
   "source": [
    "## Logistic Regression"
   ]
  },
  {
   "cell_type": "code",
   "execution_count": 12,
   "metadata": {},
   "outputs": [
    {
     "name": "stdout",
     "output_type": "stream",
     "text": [
      "Accuracy score is: 0.9225422045680238\n",
      "MCC:  0.8523832281345636\n",
      "Confusion Matrix\n",
      "[[430  72]\n",
      " [  6 499]]\n"
     ]
    }
   ],
   "source": [
    "#Logistic Regression\n",
    "def logisticRegression(X_train, Y_train, X_test, Y_test):\n",
    "    lg = LogisticRegression(random_state=seed, solver='liblinear')\n",
    "    lg.fit(X_train, Y_train)\n",
    "    predictions = lg.predict(X_test)\n",
    "    get_results(predictions)\n",
    "    return\n",
    "\n",
    "logisticRegression(X_train2, Y_train, X_test2, Y_test)"
   ]
  },
  {
   "cell_type": "raw",
   "metadata": {},
   "source": [
    "#Tune parameters for Logistic Regression with GridSearchCV, CV=5\n",
    "#DO NOT RUN\n",
    "\n",
    "lg = LogisticRegression(random_state=seed, solver='liblinear', multi_class='ovr')\n",
    "\n",
    "penalty = ['l1', 'l2']\n",
    "C = np.logspace(0, 5, 10)\n",
    "\n",
    "# Create hyperparameter options\n",
    "hyperparameters = dict(C=C, penalty=penalty)\n",
    "lg = LogisticRegression(random_state=seed, solver='liblinear')\n",
    "clf = GridSearchCV(lg, hyperparameters, cv=5, verbose=0,n_jobs=-1)\n",
    "\n",
    "best_model = clf.fit(X_train2, Y_train)\n",
    "print(best_model.best_params_)"
   ]
  },
  {
   "cell_type": "code",
   "execution_count": 13,
   "metadata": {},
   "outputs": [
    {
     "name": "stdout",
     "output_type": "stream",
     "text": [
      "Accuracy score is: 0.9255213505461768\n",
      "MCC:  0.8547341363965946\n",
      "Confusion Matrix\n",
      "[[441  61]\n",
      " [ 14 491]]\n"
     ]
    }
   ],
   "source": [
    "#Based on GridSearchCV, these params gave higher accuracy.\n",
    "LR_clf = LogisticRegression(random_state=seed, solver='liblinear', C=27825.59402207126, penalty='l2' )\n",
    "LR_model = LR_clf.fit(X_train, Y_train)\n",
    "predictions = LR_model.predict(X_test)\n",
    "get_results(predictions)"
   ]
  },
  {
   "cell_type": "markdown",
   "metadata": {},
   "source": [
    "## Decision Tree"
   ]
  },
  {
   "cell_type": "code",
   "execution_count": 14,
   "metadata": {},
   "outputs": [
    {
     "name": "stdout",
     "output_type": "stream",
     "text": [
      "Accuracy score is: 0.9602780536246276\n",
      "MCC:  0.9229015676621813\n",
      "Confusion Matrix\n",
      "[[464  38]\n",
      " [  2 503]]\n"
     ]
    }
   ],
   "source": [
    "#Decision Tree\n",
    "def decisionTree(X_train, Y_train, X_test, Y_test):\n",
    "    dtc = DecisionTreeClassifier(random_state=seed)\n",
    "    dtc.fit(X_train, Y_train)\n",
    "    predictions = dtc.predict(X_test)\n",
    "    get_results(predictions)\n",
    "    return\n",
    "#Run Basic Decision Tree without any cross validation or parameter tuning\n",
    "decisionTree(X_train2, Y_train, X_test2, Y_test)"
   ]
  },
  {
   "cell_type": "raw",
   "metadata": {},
   "source": [
    "#Tune Parameters for Decision Tree.\n",
    "#DO NOT RUN THIS See below formodel with best params\n",
    "dtc = DecisionTreeClassifier(random_state=seed)\n",
    "\n",
    "#hyperparameters to tune\n",
    "max_depth = [i for i in range(1,30)]\n",
    "min_samples_split = [i*0.1 for i in range(1,11)]\n",
    "min_samples_leaf = [1, 5, 10, 20, 50, 100]\n",
    "criterion= ['gini', 'entropy']\n",
    "\n",
    "# Create hyperparameter options\n",
    "hyperparameters = dict(max_depth=max_depth, min_samples_leaf=min_samples_leaf,min_samples_split=min_samples_split, criterion=criterion)\n",
    "clf = GridSearchCV(dtc, hyperparameters, cv=5, verbose=0)\n",
    "\n",
    "best_model = clf.fit(X_train2, Y_train)\n",
    "print(best_model.best_params_)\n"
   ]
  },
  {
   "cell_type": "code",
   "execution_count": 15,
   "metadata": {},
   "outputs": [
    {
     "name": "stdout",
     "output_type": "stream",
     "text": [
      "Accuracy score is: 0.9285004965243296\n",
      "MCC:  0.861216954887906\n",
      "Confusion Matrix\n",
      "[[441  61]\n",
      " [ 11 494]]\n"
     ]
    }
   ],
   "source": [
    "#Based on GridSearchCV, these params gave higher accuracy. Do not run the gridsearchcv code above, takes quite some time!!\n",
    "\n",
    "DT_clf = DecisionTreeClassifier(random_state=seed, max_depth = 8, min_samples_split= 0.1, \\\n",
    "                             min_samples_leaf= 1, criterion='gini')\n",
    "DT_model = DT_clf.fit(X_train2, Y_train)\n",
    "predictions = DT_model.predict(X_test2)\n",
    "get_results(predictions)"
   ]
  },
  {
   "cell_type": "raw",
   "metadata": {},
   "source": [
    "The default hyperparameter values perform better than the best param found in the param grid set up for in GridSearchCV. "
   ]
  },
  {
   "cell_type": "markdown",
   "metadata": {},
   "source": [
    "## XGBClassifier"
   ]
  },
  {
   "cell_type": "code",
   "execution_count": 16,
   "metadata": {},
   "outputs": [
    {
     "name": "stdout",
     "output_type": "stream",
     "text": [
      "Accuracy score is: 0.9404170804369414\n",
      "MCC:  0.8862962540527672\n",
      "Confusion Matrix\n",
      "[[444  58]\n",
      " [  2 503]]\n"
     ]
    }
   ],
   "source": [
    "##XGBOOST\n",
    "\n",
    "def xgBoost(X_train, Y_train, X_test, Y_test):\n",
    "    xgbc = XGBClassifier(random_state=seed)\n",
    "    xgbc.fit(X_train, Y_train)\n",
    "    predictions = xgbc.predict(X_test)\n",
    "    get_results(predictions)\n",
    "    return\n",
    "\n",
    "xgBoost(X_train2, Y_train, X_test2, Y_test)"
   ]
  },
  {
   "cell_type": "raw",
   "metadata": {},
   "source": [
    "#GridSearchCV for XGBoost. \n",
    "#DO NOT RUN THIS\n",
    "#XGBoost\n",
    "xgbc = XGBClassifier(random_state=seed)\n",
    "\n",
    "# max depth there are a total of 70 x variables\n",
    "max_depth = [1, 2, 3, 4, 5, 6, 7, 8, 9]\n",
    "learning_rate = [0.001, 0.01, 0.1]\n",
    "n_estimators = [100, 200, 300, 400]\n",
    "\n",
    "\n",
    "# Create hyperparameter options\n",
    "hyperparameters = dict(max_depth=max_depth, learning_rate = learning_rate, n_estimators=n_estimators)\n",
    "clf = GridSearchCV(xgbc, hyperparameters, cv=5, verbose=0)\n",
    "\n",
    "best_model = clf.fit(X_train2, Y_train)\n",
    "print(best_model.best_params_)\n",
    "#predictions = best_model.best_estimator_.predict(X_test)"
   ]
  },
  {
   "cell_type": "code",
   "execution_count": 17,
   "metadata": {},
   "outputs": [],
   "source": [
    "XGB_clf = XGBClassifier(random_state=seed, max_depth = 5 , learning_rate = 0.1, n_estimators = 400)\n",
    "XGB_model = XGB_clf.fit(X_train2, Y_train)"
   ]
  },
  {
   "cell_type": "code",
   "execution_count": 18,
   "metadata": {},
   "outputs": [
    {
     "name": "stdout",
     "output_type": "stream",
     "text": [
      "Accuracy score is: 0.9622641509433962\n",
      "MCC:  0.9271561981544995\n",
      "Confusion Matrix\n",
      "[[464  38]\n",
      " [  0 505]]\n"
     ]
    }
   ],
   "source": [
    "predictions = XGB_model.predict(X_test2)\n",
    "get_results(predictions)"
   ]
  },
  {
   "cell_type": "markdown",
   "metadata": {},
   "source": [
    "## Random Forest"
   ]
  },
  {
   "cell_type": "code",
   "execution_count": 19,
   "metadata": {},
   "outputs": [
    {
     "name": "stdout",
     "output_type": "stream",
     "text": [
      "Accuracy score is: 0.9652432969215492\n",
      "MCC:  0.9316251595798188\n",
      "Confusion Matrix\n",
      "[[472  30]\n",
      " [  5 500]]\n"
     ]
    },
    {
     "name": "stderr",
     "output_type": "stream",
     "text": [
      "//anaconda3/lib/python3.7/site-packages/sklearn/ensemble/forest.py:245: FutureWarning: The default value of n_estimators will change from 10 in version 0.20 to 100 in 0.22.\n",
      "  \"10 in version 0.20 to 100 in 0.22.\", FutureWarning)\n"
     ]
    }
   ],
   "source": [
    "def randomForest(X_train, Y_train, X_test, Y_test):\n",
    "    rf = RandomForestClassifier(random_state=seed)\n",
    "    rf.fit(X_train, Y_train)\n",
    "    predictions = rf.predict(X_test)\n",
    "    get_results(predictions)\n",
    "    return\n",
    "\n",
    "randomForest(X_train2, Y_train, X_test2, Y_test)"
   ]
  },
  {
   "cell_type": "raw",
   "metadata": {},
   "source": [
    "import warnings\n",
    "warnings.filterwarnings(\"ignore\")\n",
    "#Tuning for random forest\n",
    "\n",
    "rfc = RandomForestClassifier(random_state=seed, n_jobs=-1)\n",
    "\n",
    "# max depth there are a total of 70 x variables\n",
    "max_depth = [ 3, 4, 5, 6, 7, 8, 9]\n",
    "#n_estimators = [100, 200, 300, 400]\n",
    "min_samples_split = [2, 5, 10, 15, 100]\n",
    "min_samples_leaf = [1, 2, 5, 10]\n",
    "\n",
    "\n",
    "# Create hyperparameter options\n",
    "hyperparameters = dict(max_depth=max_depth,\\\n",
    "                      min_samples_split=min_samples_split, min_samples_leaf = min_samples_leaf)\n",
    "clf = GridSearchCV(rfc, hyperparameters, cv=5, verbose=0)\n",
    "\n",
    "best_model = clf.fit(X_train2, Y_train)\n",
    "print(best_model.best_params_)\n"
   ]
  },
  {
   "cell_type": "code",
   "execution_count": 20,
   "metadata": {},
   "outputs": [
    {
     "name": "stderr",
     "output_type": "stream",
     "text": [
      "//anaconda3/lib/python3.7/site-packages/sklearn/ensemble/forest.py:245: FutureWarning: The default value of n_estimators will change from 10 in version 0.20 to 100 in 0.22.\n",
      "  \"10 in version 0.20 to 100 in 0.22.\", FutureWarning)\n"
     ]
    }
   ],
   "source": [
    "RF_clf = RandomForestClassifier(random_state=seed, max_depth = 9 , min_samples_leaf=1, min_samples_split=2)\n",
    "RF_model = RF_clf.fit(X_train2, Y_train)"
   ]
  },
  {
   "cell_type": "code",
   "execution_count": 21,
   "metadata": {},
   "outputs": [
    {
     "name": "stdout",
     "output_type": "stream",
     "text": [
      "Accuracy score is: 0.9443892750744787\n",
      "MCC:  0.893901287703283\n",
      "Confusion Matrix\n",
      "[[447  55]\n",
      " [  1 504]]\n"
     ]
    }
   ],
   "source": [
    "predictions = RF_model.predict(X_test2)\n",
    "get_results(predictions)"
   ]
  },
  {
   "cell_type": "markdown",
   "metadata": {},
   "source": [
    "## Voting Classifier"
   ]
  },
  {
   "cell_type": "code",
   "execution_count": 22,
   "metadata": {},
   "outputs": [],
   "source": [
    "#Voting Classifier\n",
    "vote_clf = VotingClassifier(estimators=[('lr', LR_clf), ('dt', DT_clf), ('xgb', XGB_clf), ('rf', RF_clf)], voting='hard')\n",
    "vote_model = vote_clf.fit(X_train2, Y_train)"
   ]
  },
  {
   "cell_type": "code",
   "execution_count": 23,
   "metadata": {},
   "outputs": [
    {
     "name": "stdout",
     "output_type": "stream",
     "text": [
      "Accuracy score is: 0.9433962264150944\n",
      "MCC:  0.8917131407946488\n",
      "Confusion Matrix\n",
      "[[447  55]\n",
      " [  2 503]]\n"
     ]
    }
   ],
   "source": [
    "predictions = vote_model.predict(X_test2)\n",
    "get_results(predictions)"
   ]
  },
  {
   "cell_type": "markdown",
   "metadata": {},
   "source": [
    "## Conclusion\n",
    "\n",
    "From all the 5 models, we see that Random Forest gives the highest accuracy and mcc values. It is not surprising as it is an ensemble method, which often reduces variance of the model and increase the stability of our model.\n",
    "\n",
    "Also, the accuracy and mcc values were already very high to begin with, making it hard to tune the model and  hence minimal improvements were observed after tuning"
   ]
  },
  {
   "cell_type": "raw",
   "metadata": {},
   "source": []
  }
 ],
 "metadata": {
  "kernelspec": {
   "display_name": "Python 3",
   "language": "python",
   "name": "python3"
  },
  "language_info": {
   "codemirror_mode": {
    "name": "ipython",
    "version": 3
   },
   "file_extension": ".py",
   "mimetype": "text/x-python",
   "name": "python",
   "nbconvert_exporter": "python",
   "pygments_lexer": "ipython3",
   "version": "3.7.3"
  }
 },
 "nbformat": 4,
 "nbformat_minor": 2
}
